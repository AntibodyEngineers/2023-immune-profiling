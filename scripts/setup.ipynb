{
 "cells": [
  {
   "cell_type": "code",
   "execution_count": 1,
   "id": "1ba20cf3-50b4-43ee-ac06-20618b692a50",
   "metadata": {},
   "outputs": [],
   "source": [
    "# Todd Smith - Antibody-Engineering Hackathon 2023\n",
    "# Starter notebook to add to users directory to:\n",
    "# test configuration, python libs\n",
    "# test that IgBLAST can be run"
   ]
  },
  {
   "cell_type": "code",
   "execution_count": 2,
   "id": "77788daf-e066-4d3a-82cb-db757c1d1d56",
   "metadata": {},
   "outputs": [
    {
     "data": {
      "text/plain": [
       "'/home/todd/.conda/envs/ipykernel_py3/bin/python'"
      ]
     },
     "execution_count": 2,
     "metadata": {},
     "output_type": "execute_result"
    }
   ],
   "source": [
    "import sys\n",
    "sys.executable"
   ]
  },
  {
   "cell_type": "code",
   "execution_count": 3,
   "id": "f7f7c47e-38b2-4fb1-96e6-d90e612995aa",
   "metadata": {},
   "outputs": [],
   "source": [
    "import numpy\n",
    "import pandas\n",
    "import matplotlib.pyplot as plt\n",
    "import math\n",
    "import os, json, argparse, string, subprocess, re"
   ]
  },
  {
   "cell_type": "code",
   "execution_count": 4,
   "id": "7b4c7b5b-bb2a-4f88-a306-dbcaa3decded",
   "metadata": {},
   "outputs": [
    {
     "name": "stderr",
     "output_type": "stream",
     "text": [
      "Command line argument error: Argument \"out\". File is not accessible:  `data/foo'\n"
     ]
    },
    {
     "data": {
      "text/plain": [
       "256"
      ]
     },
     "execution_count": 4,
     "metadata": {},
     "output_type": "execute_result"
    }
   ],
   "source": [
    "import os\n",
    "\n",
    "cmd = 'igblastn \\\n",
    "    -germline_db_V /usr/local/igblast/database/IGV \\\n",
    "    -germline_db_D /usr/local/igblast/database/IGHD \\\n",
    "    -germline_db_J /usr/local/igblast/database/IGJ \\\n",
    "    -auxiliary_data optional_file/human_gl.aux \\\n",
    "    -query data/todd/SRR4431764merged.fa \\\n",
    "    -outfmt 19 \\\n",
    "    -num_threads 64 \\\n",
    "    -out data/foo'\n",
    "\n",
    "os.system(cmd)"
   ]
  }
 ],
 "metadata": {
  "kernelspec": {
   "display_name": "Python 3 (ipykernel)",
   "language": "python",
   "name": "python3"
  },
  "language_info": {
   "codemirror_mode": {
    "name": "ipython",
    "version": 3
   },
   "file_extension": ".py",
   "mimetype": "text/x-python",
   "name": "python",
   "nbconvert_exporter": "python",
   "pygments_lexer": "ipython3",
   "version": "3.11.4"
  }
 },
 "nbformat": 4,
 "nbformat_minor": 5
}
