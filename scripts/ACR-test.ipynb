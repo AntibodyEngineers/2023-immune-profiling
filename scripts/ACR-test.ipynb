{
 "cells": [
  {
   "cell_type": "code",
   "execution_count": 1,
   "id": "1ba20cf3-50b4-43ee-ac06-20618b692a50",
   "metadata": {},
   "outputs": [],
   "source": [
    "import os\n",
    "import sys"
   ]
  },
  {
   "cell_type": "code",
   "execution_count": 2,
   "id": "77788daf-e066-4d3a-82cb-db757c1d1d56",
   "metadata": {},
   "outputs": [
    {
     "data": {
      "text/plain": [
       "'/opt/jupyterhub/bin/python3'"
      ]
     },
     "execution_count": 2,
     "metadata": {},
     "output_type": "execute_result"
    }
   ],
   "source": [
    "sys.executable"
   ]
  },
  {
   "cell_type": "code",
   "execution_count": 3,
   "id": "f7f7c47e-38b2-4fb1-96e6-d90e612995aa",
   "metadata": {},
   "outputs": [],
   "source": [
    "import numpy\n",
    "import pandas as pd\n",
    "import matplotlib.pyplot as plt\n",
    "import math\n",
    "import os, json, argparse, string, subprocess, re"
   ]
  },
  {
   "cell_type": "code",
   "execution_count": 4,
   "id": "7b4c7b5b-bb2a-4f88-a306-dbcaa3decded",
   "metadata": {},
   "outputs": [
    {
     "data": {
      "text/plain": [
       "0"
      ]
     },
     "execution_count": 4,
     "metadata": {},
     "output_type": "execute_result"
    }
   ],
   "source": [
    "import os\n",
    "\n",
    "cmd = 'igblastn \\\n",
    "    -germline_db_V /usr/local/igblast/database/IGV \\\n",
    "    -germline_db_D /usr/local/igblast/database/IGHD \\\n",
    "    -germline_db_J /usr/local/igblast/database/IGJ \\\n",
    "    -auxiliary_data optional_file/human_gl.aux \\\n",
    "    -query SRR12749786.fa \\\n",
    "    -outfmt 19 \\\n",
    "    -num_threads 64 \\\n",
    "    -out SRR12749786.BLAST'\n",
    "os.system(cmd)"
   ]
  },
  {
   "cell_type": "code",
   "execution_count": 6,
   "id": "9d0d0795-fd38-41ea-bc06-c87a3ef574bc",
   "metadata": {},
   "outputs": [],
   "source": [
    "df = pd.read_csv(\"SRR12749786.BLAST\",sep=\"\\t\")"
   ]
  },
  {
   "cell_type": "code",
   "execution_count": 7,
   "id": "427554b8-b05c-4aa0-88c2-99b6f452cdbe",
   "metadata": {},
   "outputs": [
    {
     "name": "stdout",
     "output_type": "stream",
     "text": [
      "               sequence_id                                           sequence  \\\n",
      "0            SRR12749786.1  CTAGGGCCCCTTACCTGACTCTCACCTGCCCCAACTCCAGGTACAA...   \n",
      "1            SRR12749786.2  NCGTAACTGATCTGACTTTGTATGTAAATACAGAAAAANCTTNNNC...   \n",
      "2            SRR12749786.3  NTTCCTTTACTTTTTGAATTTTTGGAGAATTCTGTTCCAACTCAGC...   \n",
      "3            SRR12749786.4  ATGTGATGTTGGAGTAGGAGGGTTTATCTTGGTGACTTTGGGATGC...   \n",
      "4            SRR12749786.5  TTGAGCTCAGGAAGGTTATGTCATCTATTGGCAATGACCTAGCCAA...   \n",
      "...                    ...                                                ...   \n",
      "116971  SRR12749786.116972  TCCGATCTTATGTCTGTTTCGTGGTGGGAAATATCCTATGTTTTCT...   \n",
      "116972  SRR12749786.116973  TCTCGGGCAGAAGCTGGCAGTGGTGGGCCTGGCTTCACCTTCACTT...   \n",
      "116973  SRR12749786.116974  GGCGAACTGGGCCTGCAGGATGAGAAGGTGCTGCGGGTTCCAGTTG...   \n",
      "116974  SRR12749786.116975  GTGCTGAGCAGTGTCAATCCAGTCCCTGTTTACATCCCAAACCTCA...   \n",
      "116975  SRR12749786.116976  GTGAAATTTTGTAGGTGAAAAGGTTTACTTTTCACCAGTCTGTTCT...   \n",
      "\n",
      "                              sequence_aa locus stop_codon vj_in_frame  \\\n",
      "0                  NSRYNASIGDNESDQASGAYIF   IGH          F         NaN   \n",
      "1       X*LI*LCM*IQKXLXXXFSSFCPLVNSTGSSFY   NaN        NaN         NaN   \n",
      "2                 SVPTQPGRPC*IQLGLSLFLSWL   IGL          F         NaN   \n",
      "3                          RYNYAKQRIQERIA   IGL          F         NaN   \n",
      "4                            QPGADKTLRKVX   IGL          F         NaN   \n",
      "...                                   ...   ...        ...         ...   \n",
      "116971                             ALI*RE   IGL          T         NaN   \n",
      "116972          GPGFTFTFRSPEEVFREFFGSGDPF   IGK          F           F   \n",
      "116973    TGPAG*EGAAGSSWTAGPSSCGPVTARPTPP   IGK          T           T   \n",
      "116974                   PANAGITLPTRGYKCL   IGL          F         NaN   \n",
      "116975                              LLMMS   IGH          F         NaN   \n",
      "\n",
      "       v_frameshift productive rev_comp complete_vdj  ...  fwr3_start  \\\n",
      "0               NaN        NaN        T            F  ...        31.0   \n",
      "1               NaN        NaN        F          NaN  ...         NaN   \n",
      "2               NaN        NaN        F            F  ...         NaN   \n",
      "3               NaN        NaN        T            F  ...         NaN   \n",
      "4               NaN        NaN        T            F  ...         NaN   \n",
      "...             ...        ...      ...          ...  ...         ...   \n",
      "116971          NaN          F        T            F  ...         NaN   \n",
      "116972            F          F        T            F  ...        24.0   \n",
      "116973            F          F        F            F  ...         NaN   \n",
      "116974          NaN        NaN        T            F  ...        50.0   \n",
      "116975          NaN        NaN        F            F  ...         NaN   \n",
      "\n",
      "       fwr3_end fwr4_start fwr4_end cdr3_start cdr3_end  \\\n",
      "0          65.0        NaN      NaN        NaN      NaN   \n",
      "1           NaN        NaN      NaN        NaN      NaN   \n",
      "2           NaN        NaN      NaN        NaN      NaN   \n",
      "3           NaN        NaN      NaN        NaN      NaN   \n",
      "4           NaN        NaN      NaN        NaN      NaN   \n",
      "...         ...        ...      ...        ...      ...   \n",
      "116971      NaN        NaN      NaN        NaN      NaN   \n",
      "116972     87.0        NaN      NaN        NaN      NaN   \n",
      "116973      NaN        NaN      NaN        NaN      NaN   \n",
      "116974     68.0        NaN      NaN        NaN      NaN   \n",
      "116975      NaN        NaN      NaN        NaN      NaN   \n",
      "\n",
      "                                        np1 np1_length  np2  np2_length  \n",
      "0                                        TA        2.0  NaN         NaN  \n",
      "1                                       NaN        NaN  NaN         NaN  \n",
      "2                                       NaN        NaN  NaN         NaN  \n",
      "3                                       NaN        NaN  NaN         NaN  \n",
      "4                                       NaN        NaN  NaN         NaN  \n",
      "...                                     ...        ...  ...         ...  \n",
      "116971                                  NaN        NaN  NaN         NaN  \n",
      "116972       CCGAGGAGGTCTTCCGGGAATTCTTTGGGA       30.0  NaN         NaN  \n",
      "116973  GGATGAGAAGGTGCTGCGGGTTCCAGTTGGACTGC       35.0  NaN         NaN  \n",
      "116974                                  NaN        NaN  NaN         NaN  \n",
      "116975                        TTCTGGCATGCTT       13.0  NaN         NaN  \n",
      "\n",
      "[116976 rows x 96 columns]\n"
     ]
    }
   ],
   "source": [
    "print(df)"
   ]
  },
  {
   "cell_type": "code",
   "execution_count": 8,
   "id": "479be598-8cc1-49fc-a723-7242ceb52da2",
   "metadata": {},
   "outputs": [
    {
     "data": {
      "image/png": "[encoded data removed]",
      "text/plain": [
       "<Figure size 432x288 with 1 Axes>"
      ]
     },
     "metadata": {
      "needs_background": "light"
     },
     "output_type": "display_data"
    }
   ],
   "source": [
    "# add a new column with the length of the sequences \n",
    "df['seq_len'] = df['sequence'].apply(len)\n",
    "seq_len_counts = df['seq_len'].value_counts()\n",
    "\n",
    "#print(df[['sequence', 'seq_len']])\n",
    "#print(seq_len_counts)\n",
    "\n",
    "seq_len_counts = seq_len_counts.sort_index()\n",
    "\n",
    "# Plot the distribution of sequence lengths\n",
    "import matplotlib.pyplot as plt\n",
    "plt.bar(seq_len_counts.index, seq_len_counts.values)\n",
    "plt.xlabel('Sequence Length')\n",
    "plt.ylabel('Count')\n",
    "plt.title('Distribution of Sequence Lengths')\n",
    "plt.show()\n",
    "plt.close()"
   ]
  },
  {
   "cell_type": "code",
   "execution_count": 9,
   "id": "38db4950-8b7e-4afa-892e-bb0bb517f396",
   "metadata": {},
   "outputs": [
    {
     "data": {
      "text/plain": [
       "['sequence_id',\n",
       " 'sequence',\n",
       " 'sequence_aa',\n",
       " 'locus',\n",
       " 'stop_codon',\n",
       " 'vj_in_frame',\n",
       " 'v_frameshift',\n",
       " 'productive',\n",
       " 'rev_comp',\n",
       " 'complete_vdj',\n",
       " 'd_frame',\n",
       " 'v_call',\n",
       " 'd_call',\n",
       " 'j_call',\n",
       " 'sequence_alignment',\n",
       " 'germline_alignment',\n",
       " 'sequence_alignment_aa',\n",
       " 'germline_alignment_aa',\n",
       " 'v_alignment_start',\n",
       " 'v_alignment_end',\n",
       " 'd_alignment_start',\n",
       " 'd_alignment_end',\n",
       " 'j_alignment_start',\n",
       " 'j_alignment_end',\n",
       " 'v_sequence_alignment',\n",
       " 'v_sequence_alignment_aa',\n",
       " 'v_germline_alignment',\n",
       " 'v_germline_alignment_aa',\n",
       " 'd_sequence_alignment',\n",
       " 'd_sequence_alignment_aa',\n",
       " 'd_germline_alignment',\n",
       " 'd_germline_alignment_aa',\n",
       " 'j_sequence_alignment',\n",
       " 'j_sequence_alignment_aa',\n",
       " 'j_germline_alignment',\n",
       " 'j_germline_alignment_aa',\n",
       " 'fwr1',\n",
       " 'fwr1_aa',\n",
       " 'cdr1',\n",
       " 'cdr1_aa',\n",
       " 'fwr2',\n",
       " 'fwr2_aa',\n",
       " 'cdr2',\n",
       " 'cdr2_aa',\n",
       " 'fwr3',\n",
       " 'fwr3_aa',\n",
       " 'fwr4',\n",
       " 'fwr4_aa',\n",
       " 'cdr3',\n",
       " 'cdr3_aa',\n",
       " 'junction',\n",
       " 'junction_length',\n",
       " 'junction_aa',\n",
       " 'junction_aa_length',\n",
       " 'v_score',\n",
       " 'd_score',\n",
       " 'j_score',\n",
       " 'v_cigar',\n",
       " 'd_cigar',\n",
       " 'j_cigar',\n",
       " 'v_support',\n",
       " 'd_support',\n",
       " 'j_support',\n",
       " 'v_identity',\n",
       " 'd_identity',\n",
       " 'j_identity',\n",
       " 'v_sequence_start',\n",
       " 'v_sequence_end',\n",
       " 'v_germline_start',\n",
       " 'v_germline_end',\n",
       " 'd_sequence_start',\n",
       " 'd_sequence_end',\n",
       " 'd_germline_start',\n",
       " 'd_germline_end',\n",
       " 'j_sequence_start',\n",
       " 'j_sequence_end',\n",
       " 'j_germline_start',\n",
       " 'j_germline_end',\n",
       " 'fwr1_start',\n",
       " 'fwr1_end',\n",
       " 'cdr1_start',\n",
       " 'cdr1_end',\n",
       " 'fwr2_start',\n",
       " 'fwr2_end',\n",
       " 'cdr2_start',\n",
       " 'cdr2_end',\n",
       " 'fwr3_start',\n",
       " 'fwr3_end',\n",
       " 'fwr4_start',\n",
       " 'fwr4_end',\n",
       " 'cdr3_start',\n",
       " 'cdr3_end',\n",
       " 'np1',\n",
       " 'np1_length',\n",
       " 'np2',\n",
       " 'np2_length',\n",
       " 'seq_len']"
      ]
     },
     "execution_count": 9,
     "metadata": {},
     "output_type": "execute_result"
    }
   ],
   "source": [
    "list(df)"
   ]
  },
  {
   "cell_type": "code",
   "execution_count": 10,
   "id": "aab22e22-c125-4dde-9e56-69f50108b298",
   "metadata": {},
   "outputs": [
    {
     "data": {
      "text/plain": [
       "0         CTAGGGCCCCTTACCTGACTCTCACCTGCCCCAACTCCAGGTACAA...\n",
       "1         NCGTAACTGATCTGACTTTGTATGTAAATACAGAAAAANCTTNNNC...\n",
       "2         NTTCCTTTACTTTTTGAATTTTTGGAGAATTCTGTTCCAACTCAGC...\n",
       "3         ATGTGATGTTGGAGTAGGAGGGTTTATCTTGGTGACTTTGGGATGC...\n",
       "4         TTGAGCTCAGGAAGGTTATGTCATCTATTGGCAATGACCTAGCCAA...\n",
       "                                ...                        \n",
       "116971    TCCGATCTTATGTCTGTTTCGTGGTGGGAAATATCCTATGTTTTCT...\n",
       "116972    TCTCGGGCAGAAGCTGGCAGTGGTGGGCCTGGCTTCACCTTCACTT...\n",
       "116973    GGCGAACTGGGCCTGCAGGATGAGAAGGTGCTGCGGGTTCCAGTTG...\n",
       "116974    GTGCTGAGCAGTGTCAATCCAGTCCCTGTTTACATCCCAAACCTCA...\n",
       "116975    GTGAAATTTTGTAGGTGAAAAGGTTTACTTTTCACCAGTCTGTTCT...\n",
       "Name: sequence, Length: 116976, dtype: object"
      ]
     },
     "execution_count": 10,
     "metadata": {},
     "output_type": "execute_result"
    }
   ],
   "source": [
    "df['sequence']"
   ]
  },
  {
   "cell_type": "code",
   "execution_count": 11,
   "id": "e4f44424-8663-4942-9ad9-3a4d162101fb",
   "metadata": {},
   "outputs": [
    {
     "data": {
      "image/png": "[encoded data removed]",
      "text/plain": [
       "<Figure size 576x576 with 2 Axes>"
      ]
     },
     "metadata": {
      "needs_background": "light"
     },
     "output_type": "display_data"
    }
   ],
   "source": [
    "df['seq_len'] = df['sequence'].apply(len)\n",
    "\n",
    "# Filter the data where 'productive' is 'T'\n",
    "productive_df = df[df['productive'] == 'T']\n",
    "\n",
    "# Filter the data where 'productive' is 'F'\n",
    "non_productive_df = df[df['productive'] == 'F']\n",
    "\n",
    "# Count the occurrences of each sequence length for productive and non-productive sequences\n",
    "productive_seq_len_counts = productive_df['seq_len'].value_counts().sort_index()\n",
    "non_productive_seq_len_counts = non_productive_df['seq_len'].value_counts().sort_index()\n",
    "\n",
    "# Create a 2x1 subplot layout\n",
    "fig, axes = plt.subplots(2, 1, figsize=(8, 8), sharex=True)\n",
    "\n",
    "# Plot the distribution of sequence lengths for productive sequences\n",
    "axes[0].bar(productive_seq_len_counts.index, productive_seq_len_counts.values)\n",
    "axes[0].set_ylabel('Count')\n",
    "axes[0].set_title('Distribution of Sequence Lengths for Productive Sequences')\n",
    "\n",
    "# Plot the distribution of sequence lengths for non-productive sequences\n",
    "axes[1].bar(non_productive_seq_len_counts.index, non_productive_seq_len_counts.values)\n",
    "axes[1].set_xlabel('Sequence Length')\n",
    "axes[1].set_ylabel('Count')\n",
    "axes[1].set_title('Distribution of Sequence Lengths for Non-Productive Sequences')\n",
    "\n",
    "plt.tight_layout()\n",
    "plt.show()\n",
    "plt.close()"
   ]
  },
  {
   "cell_type": "code",
   "execution_count": 12,
   "id": "d06261cb-3a98-41f5-8511-129fd9e2a97c",
   "metadata": {},
   "outputs": [
    {
     "data": {
      "image/png": "[encoded data removed]",
      "text/plain": [
       "<Figure size 720x432 with 1 Axes>"
      ]
     },
     "metadata": {
      "needs_background": "light"
     },
     "output_type": "display_data"
    }
   ],
   "source": [
    "import pandas as pd\n",
    "import matplotlib.pyplot as plt\n",
    "\n",
    "# Assuming 'df' is your pandas DataFrame with columns 'sequence', 'productive', and 'seq_len'\n",
    "\n",
    "# Create a new column 'seq_len' that contains the length of each sequence\n",
    "df['seq_len'] = df['sequence'].apply(len)\n",
    "\n",
    "# Filter the data where 'productive' is 'T'\n",
    "productive_df = df[df['productive'] == 'T']\n",
    "\n",
    "# Filter the data where 'productive' is 'F'\n",
    "non_productive_df = df[df['productive'] == 'F']\n",
    "\n",
    "# Count the occurrences of each sequence length for productive and non-productive sequences\n",
    "productive_seq_len_counts = productive_df['seq_len'].value_counts().sort_index()\n",
    "non_productive_seq_len_counts = non_productive_df['seq_len'].value_counts().sort_index()\n",
    "\n",
    "# Create a single plot with two bars side by side\n",
    "fig, ax = plt.subplots(figsize=(10, 6))\n",
    "\n",
    "# Plot the distribution of sequence lengths for productive sequences (in blue)\n",
    "ax.bar(productive_seq_len_counts.index - 0.2, productive_seq_len_counts.values, width=0.4, color='blue', label='Productive')\n",
    "\n",
    "# Plot the distribution of sequence lengths for non-productive sequences (in red)\n",
    "ax.bar(non_productive_seq_len_counts.index + 0.2, non_productive_seq_len_counts.values, width=0.4, color='red', label='Non-Productive')\n",
    "\n",
    "ax.set_xlabel('Sequence Length')\n",
    "ax.set_ylabel('Count')\n",
    "ax.set_title('Distribution of Sequence Lengths for Productive and Non-Productive Sequences')\n",
    "ax.legend()\n",
    "\n",
    "plt.show()\n",
    "plt.close()\n"
   ]
  },
  {
   "cell_type": "code",
   "execution_count": null,
   "id": "c0a695a0-2a16-4a6f-9b86-2a40c98b357d",
   "metadata": {},
   "outputs": [],
   "source": []
  },
  {
   "cell_type": "code",
   "execution_count": null,
   "id": "e72f0e1b-3933-40ec-8ada-e3e2cad0f5e5",
   "metadata": {},
   "outputs": [],
   "source": []
  }
 ],
 "metadata": {
  "kernelspec": {
   "display_name": "Python 3 (ipykernel)",
   "language": "python",
   "name": "python3"
  },
  "language_info": {
   "codemirror_mode": {
    "name": "ipython",
    "version": 3
   },
   "file_extension": ".py",
   "mimetype": "text/x-python",
   "name": "python",
   "nbconvert_exporter": "python",
   "pygments_lexer": "ipython3",
   "version": "3.10.12"
  }
 },
 "nbformat": 4,
 "nbformat_minor": 5
}
