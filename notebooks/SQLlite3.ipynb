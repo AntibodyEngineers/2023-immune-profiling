{
 "cells": [
  {
   "cell_type": "code",
   "execution_count": 1,
   "id": "858f8bea-8935-4ea8-a44a-eecf35afcb33",
   "metadata": {},
   "outputs": [],
   "source": [
    "import sqlite3\n",
    "import pandas as pd"
   ]
  },
  {
   "cell_type": "code",
   "execution_count": 2,
   "id": "53e725cf-2668-4eda-903c-370fb6355af5",
   "metadata": {},
   "outputs": [],
   "source": [
    "df = pd.read_csv('data/todd/SRR4431764merged.igblast',sep='\\t')"
   ]
  },
  {
   "cell_type": "code",
   "execution_count": 3,
   "id": "114f575b-9e1e-44a9-9f5d-1ab3fd68e0e2",
   "metadata": {},
   "outputs": [],
   "source": [
    "con = sqlite3.connect(\"data/todd/igblast.db\")\n",
    "cur = con.cursor()"
   ]
  },
  {
   "cell_type": "code",
   "execution_count": 4,
   "id": "ad556e4a-909b-422d-86da-e0fa469c0d1d",
   "metadata": {},
   "outputs": [],
   "source": [
    "#table_name = 'alignment'\n",
    "#df.to_sql(table_name, con, index=False, if_exists='replace') "
   ]
  },
  {
   "cell_type": "code",
   "execution_count": 5,
   "id": "96833c62-c7d8-41fc-8697-9730dbd98b68",
   "metadata": {},
   "outputs": [
    {
     "name": "stdout",
     "output_type": "stream",
     "text": [
      "       v_identity locus             cdr3_aa productive  count(*)\n",
      "0         100.000   IGH  YYDSSGYYPQDYYYGMDV          T         3\n",
      "1         100.000   IGL           YSTDSTKGV          T         5\n",
      "2         100.000   IGL           YSTDSSGRV          T         8\n",
      "3         100.000   IGL         YSTDSSGNRVV          T         8\n",
      "4         100.000   IGL        YSTDSSGNPVRV          T         3\n",
      "...           ...   ...                 ...        ...       ...\n",
      "34028      90.034   IGH    AKSPYESGGRGDGFDM          T         3\n",
      "34029      90.033   IGK           RHAIQFPRT          T         2\n",
      "34030      90.033   IGK           KQDLQTPRT          T         2\n",
      "34031      90.033   IGL           CSYAGSYNI          T         2\n",
      "34032      90.033   IGH      ARVFWNYEKNYCDY          T         2\n",
      "\n",
      "[34033 rows x 5 columns]\n"
     ]
    }
   ],
   "source": [
    "columns = ['v_identity', \n",
    "           'locus', \n",
    "           'cdr3_aa', \n",
    "           'productive',\n",
    "           'count(*)']\n",
    "placeholders = ','.join(['?' for _ in columns])\n",
    "# \"\"\" is a python doc format means no \\ \n",
    "query = f\"\"\"\n",
    "    SELECT {','.join(columns)}\n",
    "    FROM alignment\n",
    "    WHERE productive = 'T'\n",
    "    GROUP BY cdr3_aa\n",
    "    HAVING count(*) > 1 AND v_identity > 90\n",
    "    ORDER BY v_identity DESC\n",
    "\"\"\"\n",
    "        \n",
    "cur.execute(query)\n",
    "rows = cur.fetchall()\n",
    "productive_df = pd.DataFrame(rows, columns=columns)\n",
    "print(productive_df)"
   ]
  },
  {
   "cell_type": "code",
   "execution_count": 6,
   "id": "356fa765-b436-46fc-8744-877897351829",
   "metadata": {},
   "outputs": [
    {
     "name": "stdout",
     "output_type": "stream",
     "text": [
      "cdr3_aa\n",
      "YYDSSGYYPQDYYYGMDV    1\n",
      "QQFGPSPFT             1\n",
      "QSYYSSNRCV            1\n",
      "AGDYVGYCTGGSCYSD      1\n",
      "QQSYISPRT             1\n",
      "                     ..\n",
      "QQEGSSLFT             1\n",
      "QQEGSSRRT             1\n",
      "QQENNWPQA             1\n",
      "QQENNWPRS             1\n",
      "ARVFWNYEKNYCDY        1\n",
      "Name: count, Length: 34033, dtype: int64\n"
     ]
    }
   ],
   "source": [
    "print(productive_df['cdr3_aa'].value_counts())"
   ]
  },
  {
   "cell_type": "code",
   "execution_count": 7,
   "id": "437073a9-6c6e-47ff-ba34-cee007a64db5",
   "metadata": {},
   "outputs": [
    {
     "name": "stdout",
     "output_type": "stream",
     "text": [
      "sequence_id\n",
      "sequence\n",
      "sequence_aa\n",
      "locus\n",
      "stop_codon\n",
      "vj_in_frame\n",
      "v_frameshift\n",
      "productive\n",
      "rev_comp\n",
      "complete_vdj\n",
      "d_frame\n",
      "v_call\n",
      "d_call\n",
      "j_call\n",
      "sequence_alignment\n",
      "germline_alignment\n",
      "sequence_alignment_aa\n",
      "germline_alignment_aa\n",
      "v_alignment_start\n",
      "v_alignment_end\n",
      "d_alignment_start\n",
      "d_alignment_end\n",
      "j_alignment_start\n",
      "j_alignment_end\n",
      "v_sequence_alignment\n",
      "v_sequence_alignment_aa\n",
      "v_germline_alignment\n",
      "v_germline_alignment_aa\n",
      "d_sequence_alignment\n",
      "d_sequence_alignment_aa\n",
      "d_germline_alignment\n",
      "d_germline_alignment_aa\n",
      "j_sequence_alignment\n",
      "j_sequence_alignment_aa\n",
      "j_germline_alignment\n",
      "j_germline_alignment_aa\n",
      "fwr1\n",
      "fwr1_aa\n",
      "cdr1\n",
      "cdr1_aa\n",
      "fwr2\n",
      "fwr2_aa\n",
      "cdr2\n",
      "cdr2_aa\n",
      "fwr3\n",
      "fwr3_aa\n",
      "fwr4\n",
      "fwr4_aa\n",
      "cdr3\n",
      "cdr3_aa\n",
      "junction\n",
      "junction_length\n",
      "junction_aa\n",
      "junction_aa_length\n",
      "v_score\n",
      "d_score\n",
      "j_score\n",
      "v_cigar\n",
      "d_cigar\n",
      "j_cigar\n",
      "v_support\n",
      "d_support\n",
      "j_support\n",
      "v_identity\n",
      "d_identity\n",
      "j_identity\n",
      "v_sequence_start\n",
      "v_sequence_end\n",
      "v_germline_start\n",
      "v_germline_end\n",
      "d_sequence_start\n",
      "d_sequence_end\n",
      "d_germline_start\n",
      "d_germline_end\n",
      "j_sequence_start\n",
      "j_sequence_end\n",
      "j_germline_start\n",
      "j_germline_end\n",
      "fwr1_start\n",
      "fwr1_end\n",
      "cdr1_start\n",
      "cdr1_end\n",
      "fwr2_start\n",
      "fwr2_end\n",
      "cdr2_start\n",
      "cdr2_end\n",
      "fwr3_start\n",
      "fwr3_end\n",
      "fwr4_start\n",
      "fwr4_end\n",
      "cdr3_start\n",
      "cdr3_end\n",
      "np1\n",
      "np1_length\n",
      "np2\n",
      "np2_length\n"
     ]
    }
   ],
   "source": [
    "cur.execute(\"PRAGMA table_info(alignment)\")\n",
    "table_rows = cur.fetchall()\n",
    "for r in table_rows:\n",
    "    column_name = r[1]\n",
    "    data_type = r[2]\n",
    "    not_null = r[3]\n",
    "    default_value = r[4]\n",
    "    primary_key = r[5]\n",
    "\n",
    "    print(f\"{column_name}\")\n",
    "    #print(f\"Data Type: {data_type}\")\n",
    "    #print(f\"Not Null: {not_null}\")\n",
    "    #print(f\"Default Value: {default_value}\")\n",
    "    #print(f\"Primary Key: {primary_key}\")\n",
    "    #print(\"-\" * 30)"
   ]
  }
 ],
 "metadata": {
  "kernelspec": {
   "display_name": "Python 3 (ipykernel)",
   "language": "python",
   "name": "python3"
  },
  "language_info": {
   "codemirror_mode": {
    "name": "ipython",
    "version": 3
   },
   "file_extension": ".py",
   "mimetype": "text/x-python",
   "name": "python",
   "nbconvert_exporter": "python",
   "pygments_lexer": "ipython3",
   "version": "3.11.4"
  }
 },
 "nbformat": 4,
 "nbformat_minor": 5
}
