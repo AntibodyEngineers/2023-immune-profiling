{
 "cells": [
  {
   "cell_type": "code",
   "execution_count": 1,
   "id": "bf178871-ca3e-4099-9db9-180d2aa1153f",
   "metadata": {},
   "outputs": [],
   "source": [
    "import os\n",
    "import pandas as df"
   ]
  },
  {
   "cell_type": "code",
   "execution_count": 7,
   "id": "eecba548-6584-4153-91f3-4ed09006c4d9",
   "metadata": {},
   "outputs": [
    {
     "data": {
      "image/png": "[encoded data removed]",
      "text/plain": [
       "<Figure size 720x720 with 1 Axes>"
      ]
     },
     "metadata": {
      "needs_background": "light"
     },
     "output_type": "display_data"
    }
   ],
   "source": [
    "import pandas as pd\n",
    "import matplotlib.pyplot as plt\n",
    "\n",
    "def read_fasta_file(file_path):\n",
    "    sequences = []\n",
    "    with open(file_path, 'r') as file:\n",
    "        for line in file:\n",
    "            if line.startswith('>'):\n",
    "                sequence_id = line[1:].strip()\n",
    "                sequences.append({'id': sequence_id, 'sequence': ''})\n",
    "            else:\n",
    "                sequences[-1]['sequence'] += line.strip()\n",
    "    return sequences\n",
    "\n",
    "def plot_sequence_length_distribution(file_path):\n",
    "    sequences = read_fasta_file(file_path)\n",
    "\n",
    "    # Calculate sequence lengths\n",
    "    for sequence in sequences:\n",
    "        sequence['length'] = len(sequence['sequence'])\n",
    "\n",
    "    # Create pandas DataFrame\n",
    "    df = pd.DataFrame(sequences)\n",
    "\n",
    "    # Calculate the distribution of sequence lengths\n",
    "    sequence_lengths_distribution = df['length'].value_counts().sort_index()\n",
    "\n",
    "    # Plotting\n",
    "    plt.figure(figsize=(10, 10))\n",
    "    plt.bar(sequence_lengths_distribution.index, sequence_lengths_distribution.values)\n",
    "    plt.xlabel('Sequence Length')\n",
    "    plt.ylabel('Frequency')\n",
    "    plt.title('Distribution of Sequence Lengths - ' + file_path)\n",
    "    plt.grid(axis='y')\n",
    "    plt.show()\n",
    "\n",
    "# List of FASTA files you want to process\n",
    "fasta_files = ['test_merged_rashmi.fa']\n",
    "\n",
    "# Process each file and plot sequence length distribution\n",
    "for file_path in fasta_files:\n",
    "    plot_sequence_length_distribution(file_path)\n"
   ]
  },
  {
   "cell_type": "code",
   "execution_count": null,
   "id": "3004fded-c917-4d9b-90cf-c839be4f282b",
   "metadata": {},
   "outputs": [],
   "source": []
  }
 ],
 "metadata": {
  "kernelspec": {
   "display_name": "Python 3 (ipykernel)",
   "language": "python",
   "name": "python3"
  },
  "language_info": {
   "codemirror_mode": {
    "name": "ipython",
    "version": 3
   },
   "file_extension": ".py",
   "mimetype": "text/x-python",
   "name": "python",
   "nbconvert_exporter": "python",
   "pygments_lexer": "ipython3",
   "version": "3.10.12"
  }
 },
 "nbformat": 4,
 "nbformat_minor": 5
}
