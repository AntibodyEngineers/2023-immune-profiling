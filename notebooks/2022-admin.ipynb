{
 "cells": [
  {
   "cell_type": "code",
   "execution_count": 2,
   "id": "294d219c-7c73-4c96-8fcf-02965682ddee",
   "metadata": {},
   "outputs": [],
   "source": [
    "import os\n",
    "import sys"
   ]
  },
  {
   "cell_type": "code",
   "execution_count": 29,
   "id": "7051d858-8cae-4639-9b9a-352bab4ad66f",
   "metadata": {},
   "outputs": [
    {
     "data": {
      "text/plain": [
       "'/home/todd/.conda/envs/ipykernel_py3/bin/python'"
      ]
     },
     "execution_count": 29,
     "metadata": {},
     "output_type": "execute_result"
    }
   ],
   "source": [
    "sys.executable"
   ]
  },
  {
   "cell_type": "code",
   "execution_count": null,
   "id": "04a2e29f-f4fd-49d4-8f08-ee1a34358a06",
   "metadata": {},
   "outputs": [],
   "source": [
    "!{sys.executable} -m pip install -U pandas"
   ]
  },
  {
   "cell_type": "code",
   "execution_count": null,
   "id": "f73db915-c7fe-4f0c-b629-76e2baec4897",
   "metadata": {},
   "outputs": [],
   "source": [
    "!{sys.executable} -m pip install -U matplotlib"
   ]
  },
  {
   "cell_type": "code",
   "execution_count": null,
   "id": "1fb1c2d6-0f1f-4bc6-ad34-992b728c3a88",
   "metadata": {},
   "outputs": [],
   "source": [
    "!{sys.executable} -m pip install scikit-learn"
   ]
  },
  {
   "cell_type": "code",
   "execution_count": null,
   "id": "b8e2e475-e6de-495a-bec7-a0b46dc3775f",
   "metadata": {},
   "outputs": [],
   "source": [
    "!{sys.executable} -m pip install seaborn"
   ]
  },
  {
   "cell_type": "code",
   "execution_count": null,
   "id": "4dd1a055-dd7e-402b-887a-003029e8cf4e",
   "metadata": {},
   "outputs": [],
   "source": [
    "!{sys.executable} -m pip install typing"
   ]
  },
  {
   "cell_type": "code",
   "execution_count": null,
   "id": "d02e05e2-eca3-4708-8c5c-8c6fe719c67c",
   "metadata": {},
   "outputs": [],
   "source": [
    "!{sys.executable} -m pip install dataclasses"
   ]
  },
  {
   "cell_type": "code",
   "execution_count": null,
   "id": "e1deb00b-ead1-46c1-b3e5-1f68187dc392",
   "metadata": {},
   "outputs": [],
   "source": [
    "!{sys.executable} -m pip install fairseq"
   ]
  },
  {
   "cell_type": "code",
   "execution_count": null,
   "id": "bd30ed54-fb3d-408d-9f2f-b217c8a1389b",
   "metadata": {},
   "outputs": [],
   "source": [
    "!{sys.executable} -m pip install numba"
   ]
  },
  {
   "cell_type": "code",
   "execution_count": null,
   "id": "520fb9d2-58a2-4b21-a9dc-70707f61ae42",
   "metadata": {},
   "outputs": [],
   "source": [
    "!{sys.executable} -m pip install requests"
   ]
  },
  {
   "cell_type": "code",
   "execution_count": null,
   "id": "6a27142d-544f-43e2-a707-6f0074179180",
   "metadata": {},
   "outputs": [],
   "source": [
    "!{sys.executable} -m pip install tokenizers"
   ]
  },
  {
   "cell_type": "code",
   "execution_count": null,
   "id": "de4dd042-64ef-40a4-9f28-a092068bdd88",
   "metadata": {},
   "outputs": [],
   "source": [
    "!{sys.executable} -m pip install ablang"
   ]
  },
  {
   "cell_type": "code",
   "execution_count": null,
   "id": "5581dbad-b68f-40d2-8eb7-dc3871fd5981",
   "metadata": {},
   "outputs": [],
   "source": [
    "!{sys.executable} -m pip install pyarrow"
   ]
  },
  {
   "cell_type": "code",
   "execution_count": 30,
   "id": "0fa7046c-3aa7-4b3b-90a8-67f9b376f9a4",
   "metadata": {},
   "outputs": [
    {
     "name": "stdout",
     "output_type": "stream",
     "text": [
      "Collecting biopython\n",
      "  Downloading biopython-1.81-cp311-cp311-manylinux_2_17_x86_64.manylinux2014_x86_64.whl (3.1 MB)\n",
      "\u001b[2K     \u001b[90m━━━━━━━━━━━━━━━━━━━━━━━━━━━━━━━━━━━━━━━━\u001b[0m \u001b[32m3.1/3.1 MB\u001b[0m \u001b[31m14.7 MB/s\u001b[0m eta \u001b[36m0:00:00\u001b[0m00:01\u001b[0m00:01\u001b[0m\n",
      "\u001b[?25hRequirement already satisfied: numpy in ./.conda/envs/ipykernel_py3/lib/python3.11/site-packages (from biopython) (1.24.3)\n",
      "\u001b[33mDEPRECATION: omegaconf 2.0.6 has a non-standard dependency specifier PyYAML>=5.1.*. pip 23.3 will enforce this behaviour change. A possible replacement is to upgrade to a newer version of omegaconf or contact the author to suggest that they release a version with a conforming dependency specifiers. Discussion can be found at https://github.com/pypa/pip/issues/12063\u001b[0m\u001b[33m\n",
      "\u001b[0mInstalling collected packages: biopython\n",
      "Successfully installed biopython-1.81\n"
     ]
    }
   ],
   "source": [
    "!{sys.executable} -m pip install biopython"
   ]
  },
  {
   "cell_type": "code",
   "execution_count": null,
   "id": "deeda147-190d-4999-a0c3-1a718e22abf0",
   "metadata": {},
   "outputs": [],
   "source": [
    "import numpy\n",
    "import pandas\n",
    "import matplotlib.pyplot as plt\n",
    "import math\n",
    "import os, json, argparse, string, subprocess, re"
   ]
  },
  {
   "cell_type": "code",
   "execution_count": null,
   "id": "19a28550-82fa-43ab-81f7-bdc2e2d558c4",
   "metadata": {},
   "outputs": [],
   "source": [
    "!{sys.executable} -m pip install ablang"
   ]
  },
  {
   "cell_type": "code",
   "execution_count": null,
   "id": "c1e1a189-d99e-49a6-8485-9ecfe2b8b622",
   "metadata": {},
   "outputs": [],
   "source": [
    "!{sys.executable} -m pip install tensorflow"
   ]
  },
  {
   "cell_type": "code",
   "execution_count": null,
   "id": "e116386d-8952-4c38-968d-27004166b9f3",
   "metadata": {},
   "outputs": [],
   "source": [
    "!export LD_LIBRARY_PATH=$LD_LIBRARY_PATH:$CONDA_PREFIX/lib/"
   ]
  },
  {
   "cell_type": "code",
   "execution_count": null,
   "id": "40c289e0-95fb-4675-a9ef-c6ec238c8494",
   "metadata": {},
   "outputs": [],
   "source": [
    "!env"
   ]
  },
  {
   "cell_type": "code",
   "execution_count": null,
   "id": "fa0c034a-42c3-485a-8e37-6a766c2e8e2a",
   "metadata": {},
   "outputs": [],
   "source": [
    "!{sys.executable} -m pip install --upgrade tensorflow-gpu"
   ]
  },
  {
   "cell_type": "code",
   "execution_count": null,
   "id": "ff96df51-62dd-44d6-b124-ea854d15ca17",
   "metadata": {},
   "outputs": [],
   "source": [
    "import tensorflow as tf\n",
    "tf.test.is_gpu_available()"
   ]
  },
  {
   "cell_type": "code",
   "execution_count": null,
   "id": "f103b28b-f55d-4146-ad18-64f129ad8a00",
   "metadata": {
    "tags": []
   },
   "outputs": [],
   "source": [
    "!{sys.executable} -m pip install torch torchvision torchaudio -f https://download.pytorch.org/whl/torch_stable.html"
   ]
  },
  {
   "cell_type": "code",
   "execution_count": null,
   "id": "fcef142a-724d-4b8f-a686-b157d6604ae6",
   "metadata": {
    "tags": []
   },
   "outputs": [],
   "source": [
    "import torch\n",
    "x = torch.rand(5, 3)\n",
    "print(x)\n"
   ]
  },
  {
   "cell_type": "code",
   "execution_count": null,
   "id": "d0395bd0-761d-4264-9f6b-b96e8ff93b28",
   "metadata": {},
   "outputs": [],
   "source": [
    "torch.cuda.is_available()"
   ]
  },
  {
   "cell_type": "code",
   "execution_count": null,
   "id": "fda0fff3-0354-44d0-86d6-2c12a4058d3a",
   "metadata": {},
   "outputs": [],
   "source": [
    "device = torch.device(\"cuda:0\" if torch.cuda.is_available() else \"cpu\")\n",
    "print(device)"
   ]
  },
  {
   "cell_type": "code",
   "execution_count": null,
   "id": "972708cb-1a95-49d3-b4fb-660a81cd7487",
   "metadata": {},
   "outputs": [],
   "source": [
    "torch.cuda.device_count()"
   ]
  },
  {
   "cell_type": "code",
   "execution_count": null,
   "id": "e961a48d-da03-46c7-b55e-2c1bcba78deb",
   "metadata": {},
   "outputs": [],
   "source": [
    "torch.cuda.get_device_name(0)"
   ]
  },
  {
   "cell_type": "code",
   "execution_count": null,
   "id": "646b2792-e846-4904-ae35-d7651aa639b1",
   "metadata": {},
   "outputs": [],
   "source": [
    "!{sys.executable} -m pip install pytest"
   ]
  },
  {
   "cell_type": "code",
   "execution_count": null,
   "id": "b81cf809-33ee-48d5-b9c9-fb56e97067e1",
   "metadata": {},
   "outputs": [],
   "source": [
    "import h5py"
   ]
  },
  {
   "cell_type": "code",
   "execution_count": 3,
   "id": "ec123599-e289-46fa-b2cd-445cc530b5fd",
   "metadata": {},
   "outputs": [
    {
     "name": "stdout",
     "output_type": "stream",
     "text": [
      "Collecting matplotlib_venn\n",
      "  Downloading matplotlib-venn-0.11.9.tar.gz (30 kB)\n",
      "  Installing build dependencies ... \u001b[?25ldone\n",
      "\u001b[?25h  Getting requirements to build wheel ... \u001b[?25ldone\n",
      "\u001b[?25h  Installing backend dependencies ... \u001b[?25ldone\n",
      "\u001b[?25h  Preparing metadata (pyproject.toml) ... \u001b[?25ldone\n",
      "\u001b[?25hRequirement already satisfied: matplotlib in ./.conda/envs/ipykernel_py3/lib/python3.11/site-packages (from matplotlib_venn) (3.7.2)\n",
      "Requirement already satisfied: numpy in ./.conda/envs/ipykernel_py3/lib/python3.11/site-packages (from matplotlib_venn) (1.24.3)\n",
      "Requirement already satisfied: scipy in ./.conda/envs/ipykernel_py3/lib/python3.11/site-packages (from matplotlib_venn) (1.11.1)\n",
      "Requirement already satisfied: contourpy>=1.0.1 in ./.conda/envs/ipykernel_py3/lib/python3.11/site-packages (from matplotlib->matplotlib_venn) (1.1.0)\n",
      "Requirement already satisfied: cycler>=0.10 in ./.conda/envs/ipykernel_py3/lib/python3.11/site-packages (from matplotlib->matplotlib_venn) (0.11.0)\n",
      "Requirement already satisfied: fonttools>=4.22.0 in ./.conda/envs/ipykernel_py3/lib/python3.11/site-packages (from matplotlib->matplotlib_venn) (4.41.1)\n",
      "Requirement already satisfied: kiwisolver>=1.0.1 in ./.conda/envs/ipykernel_py3/lib/python3.11/site-packages (from matplotlib->matplotlib_venn) (1.4.4)\n",
      "Requirement already satisfied: packaging>=20.0 in ./.conda/envs/ipykernel_py3/lib/python3.11/site-packages (from matplotlib->matplotlib_venn) (23.0)\n",
      "Requirement already satisfied: pillow>=6.2.0 in ./.conda/envs/ipykernel_py3/lib/python3.11/site-packages (from matplotlib->matplotlib_venn) (10.0.0)\n",
      "Requirement already satisfied: pyparsing<3.1,>=2.3.1 in ./.conda/envs/ipykernel_py3/lib/python3.11/site-packages (from matplotlib->matplotlib_venn) (3.0.9)\n",
      "Requirement already satisfied: python-dateutil>=2.7 in ./.conda/envs/ipykernel_py3/lib/python3.11/site-packages (from matplotlib->matplotlib_venn) (2.8.2)\n",
      "Requirement already satisfied: six>=1.5 in ./.conda/envs/ipykernel_py3/lib/python3.11/site-packages (from python-dateutil>=2.7->matplotlib->matplotlib_venn) (1.16.0)\n",
      "Building wheels for collected packages: matplotlib_venn\n",
      "  Building wheel for matplotlib_venn (pyproject.toml) ... \u001b[?25ldone\n",
      "\u001b[?25h  Created wheel for matplotlib_venn: filename=matplotlib_venn-0.11.9-py3-none-any.whl size=33000 sha256=fdf0de5091844c82141983dcfd7377431d9d8ec977d2f71ccacaa57aea8397f2\n",
      "  Stored in directory: /home/todd/.cache/pip/wheels/f6/80/48/193eff32ed8e176623b15874055438ecec522ba68ed05abee6\n",
      "Successfully built matplotlib_venn\n",
      "\u001b[33mDEPRECATION: omegaconf 2.0.6 has a non-standard dependency specifier PyYAML>=5.1.*. pip 23.3 will enforce this behaviour change. A possible replacement is to upgrade to a newer version of omegaconf or contact the author to suggest that they release a version with a conforming dependency specifiers. Discussion can be found at https://github.com/pypa/pip/issues/12063\u001b[0m\u001b[33m\n",
      "\u001b[0mInstalling collected packages: matplotlib_venn\n",
      "Successfully installed matplotlib_venn-0.11.9\n"
     ]
    }
   ],
   "source": [
    "!{sys.executable} -m pip install matplotlib_venn"
   ]
  },
  {
   "cell_type": "code",
   "execution_count": null,
   "id": "76e716be-f7c1-44c0-9b9d-027a63ab1bef",
   "metadata": {},
   "outputs": [],
   "source": [
    "env"
   ]
  },
  {
   "cell_type": "code",
   "execution_count": null,
   "id": "21d3007d-ba6f-4d90-9b4b-e83f551fec91",
   "metadata": {},
   "outputs": [],
   "source": []
  }
 ],
 "metadata": {
  "kernelspec": {
   "display_name": "Python 3 (ipykernel)",
   "language": "python",
   "name": "python3"
  },
  "language_info": {
   "codemirror_mode": {
    "name": "ipython",
    "version": 3
   },
   "file_extension": ".py",
   "mimetype": "text/x-python",
   "name": "python",
   "nbconvert_exporter": "python",
   "pygments_lexer": "ipython3",
   "version": "3.11.4"
  },
  "toc-autonumbering": false,
  "toc-showcode": true,
  "toc-showmarkdowntxt": true
 },
 "nbformat": 4,
 "nbformat_minor": 5
}
