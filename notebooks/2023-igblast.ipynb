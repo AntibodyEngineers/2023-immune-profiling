{
 "cells": [
  {
   "cell_type": "code",
   "execution_count": 1,
   "id": "0bca998f-d7cb-4462-98e2-67f6123468a4",
   "metadata": {
    "scrolled": true
   },
   "outputs": [
    {
     "data": {
      "text/plain": [
       "{'PATH': '/bin:/usr/local/sbin:/usr/local/bin:/usr/sbin:/usr/bin:/opt/jupyterhub/bin',\n",
       " 'LANG': 'C.UTF-8',\n",
       " 'JUPYTERHUB_API_TOKEN': '<hidden>',\n",
       " 'JPY_API_TOKEN': '<hidden>',\n",
       " 'JUPYTERHUB_CLIENT_ID': 'jupyterhub-user-todd',\n",
       " 'JUPYTERHUB_HOST': '',\n",
       " 'JUPYTERHUB_OAUTH_CALLBACK_URL': '/user/todd/oauth_callback',\n",
       " 'JUPYTERHUB_OAUTH_SCOPES': '[\"access:servers!server=todd/\", \"access:servers!user=todd\"]',\n",
       " 'JUPYTERHUB_OAUTH_ACCESS_SCOPES': '[\"access:servers!server=todd/\", \"access:servers!user=todd\"]',\n",
       " 'JUPYTERHUB_OAUTH_CLIENT_ALLOWED_SCOPES': '[]',\n",
       " 'JUPYTERHUB_USER': 'todd',\n",
       " 'JUPYTERHUB_SERVER_NAME': '',\n",
       " 'JUPYTERHUB_API_URL': 'http://127.0.0.1:8081/hub/api',\n",
       " 'JUPYTERHUB_ACTIVITY_URL': 'http://127.0.0.1:8081/hub/api/users/todd/activity',\n",
       " 'JUPYTERHUB_BASE_URL': '/',\n",
       " 'JUPYTERHUB_SERVICE_PREFIX': '/user/todd/',\n",
       " 'JUPYTERHUB_SERVICE_URL': 'http://127.0.0.1:55269/user/todd/',\n",
       " 'JUPYTERHUB_DEFAULT_URL': '/lab',\n",
       " 'IGDATA': '/usr/local/igblast/bin',\n",
       " 'USER': 'todd',\n",
       " 'HOME': '/home/todd',\n",
       " 'SHELL': '/usr/bin/bash',\n",
       " 'JPY_SESSION_NAME': '/home/todd/2023-igblast.ipynb',\n",
       " 'JPY_PARENT_PID': '2498',\n",
       " 'PYDEVD_USE_FRAME_EVAL': 'NO',\n",
       " 'TERM': 'xterm-color',\n",
       " 'CLICOLOR': '1',\n",
       " 'PAGER': 'cat',\n",
       " 'GIT_PAGER': 'cat',\n",
       " 'MPLBACKEND': 'module://matplotlib_inline.backend_inline'}"
      ]
     },
     "execution_count": 1,
     "metadata": {},
     "output_type": "execute_result"
    }
   ],
   "source": [
    "env"
   ]
  },
  {
   "cell_type": "code",
   "execution_count": null,
   "id": "bea25725-7776-42ef-b483-a1bd759dc32f",
   "metadata": {},
   "outputs": [],
   "source": [
    "!igblastn -help"
   ]
  },
  {
   "cell_type": "code",
   "execution_count": 4,
   "id": "b25d17e2-4b97-41b3-a9d7-d534cf99ec58",
   "metadata": {
    "scrolled": true
   },
   "outputs": [
    {
     "name": "stdout",
     "output_type": "stream",
     "text": [
      "USAGE\n",
      "  igblastn [-h] [-help] [-germline_db_V germline_database_name]\n",
      "    [-num_alignments_V int_value] [-germline_db_V_seqidlist filename]\n",
      "    [-germline_db_D germline_database_name] [-num_alignments_D int_value]\n",
      "    [-germline_db_D_seqidlist filename]\n",
      "    [-germline_db_J germline_database_name] [-num_alignments_J int_value]\n",
      "    [-germline_db_J_seqidlist filename] [-num_alignments_C int_value]\n",
      "    [-c_region_db constant_region_database_name]\n",
      "    [-custom_internal_data filename] [-d_frame_data filename]\n",
      "    [-auxiliary_data filename] [-min_D_match min_D_match]\n",
      "    [-V_penalty V_penalty] [-D_penalty D_penalty] [-J_penalty J_penalty]\n",
      "    [-num_clonotype num_clonotype] [-clonotype_out clonotype_out]\n",
      "    [-allow_vdj_overlap] [-organism germline_origin]\n",
      "    [-domain_system domain_system] [-ig_seqtype sequence_type]\n",
      "    [-focus_on_V_segment] [-extend_align5end] [-extend_align3end]\n",
      "    [-min_V_length Min_V_Length] [-min_J_length Min_J_Length]\n",
      "    [-show_translation] [-db database_name] [-dbsize num_letters]\n",
      "    [-entrez_query entrez_query] [-query input_file] [-sra accession]\n",
      "    [-out output_file] [-evalue evalue] [-word_size int_value]\n",
      "    [-gapopen open_penalty] [-gapextend extend_penalty] [-searchsp int_value]\n",
      "    [-sum_stats bool_value] [-ungapped] [-lcase_masking] [-query_loc range]\n",
      "    [-strand strand] [-parse_deflines] [-outfmt format] [-show_gis]\n",
      "    [-num_descriptions int_value] [-num_alignments int_value]\n",
      "    [-line_length line_length] [-num_threads int_value] [-remote] [-version]\n",
      "\n",
      "DESCRIPTION\n",
      "   BLAST for Ig and TCR sequences\n",
      "\n",
      "OPTIONAL ARGUMENTS\n",
      " -h\n",
      "   Print USAGE and DESCRIPTION;  ignore all other parameters\n",
      " -help\n",
      "   Print USAGE, DESCRIPTION and ARGUMENTS; ignore all other parameters\n",
      " -version\n",
      "   Print version number;  ignore other arguments\n",
      "\n",
      " *** Input query options\n",
      " -query <File_In>\n",
      "   Input file name\n",
      "   Default = `-'\n",
      "    * Incompatible with:  sra\n",
      " -sra <String>\n",
      "   Comma-separated SRA accessions\n",
      "    * Incompatible with:  query\n",
      " -query_loc <String>\n",
      "   Location on the query sequence in 1-based offsets (Format: start-stop)\n",
      " -strand <String, `both', `minus', `plus'>\n",
      "   Query strand(s) to search against database/subject\n",
      "   Default = `both'\n",
      "\n",
      " *** General search options\n",
      " -db <String>\n",
      "   Optional additional database name\n",
      " -out <File_Out, file name length < 256>\n",
      "   Output file name\n",
      "   Default = `-'\n",
      " -evalue <Real>\n",
      "   Expectation value (E) threshold for saving hits \n",
      "   Default = `20'\n",
      " -word_size <Integer, >=4>\n",
      "   Word size for wordfinder algorithm (length of best perfect match)\n",
      " -gapopen <Integer>\n",
      "   Cost to open a gap\n",
      " -gapextend <Integer>\n",
      "   Cost to extend a gap\n",
      "\n",
      " *** Formatting options\n",
      " -outfmt <String>\n",
      "   alignment view options:\n",
      "     3 = Flat query-anchored, show identities,\n",
      "     4 = Flat query-anchored, no identities,\n",
      "     7 = Tabular with comment lines\n",
      "     19 = Rearrangement summary report (AIRR format)\n",
      "   \n",
      "   Options 7 can be additionally configured to produce\n",
      "   a custom format specified by space delimited format specifiers.\n",
      "   The supported format specifiers are:\n",
      "   \t    qseqid means Query Seq-id\n",
      "   \t       qgi means Query GI\n",
      "   \t      qacc means Query accesion\n",
      "   \t   qaccver means Query accesion.version\n",
      "   \t      qlen means Query sequence length\n",
      "   \t    sseqid means Subject Seq-id\n",
      "   \t sallseqid means All subject Seq-id(s), separated by a ';'\n",
      "   \t       sgi means Subject GI\n",
      "   \t    sallgi means All subject GIs\n",
      "   \t      sacc means Subject accession\n",
      "   \t   saccver means Subject accession.version\n",
      "   \t   sallacc means All subject accessions\n",
      "   \t      slen means Subject sequence length\n",
      "   \t    qstart means Start of alignment in query\n",
      "   \t      qend means End of alignment in query\n",
      "   \t    sstart means Start of alignment in subject\n",
      "   \t      send means End of alignment in subject\n",
      "   \t      qseq means Aligned part of query sequence\n",
      "   \t      sseq means Aligned part of subject sequence\n",
      "   \t    evalue means Expect value\n",
      "   \t  bitscore means Bit score\n",
      "   \t     score means Raw score\n",
      "   \t    length means Alignment length\n",
      "   \t    pident means Percentage of identical matches\n",
      "   \t    nident means Number of identical matches\n",
      "   \t  mismatch means Number of mismatches\n",
      "   \t  positive means Number of positive-scoring matches\n",
      "   \t   gapopen means Number of gap openings\n",
      "   \t      gaps means Total number of gaps\n",
      "   \t      ppos means Percentage of positive-scoring matches\n",
      "   \t    frames means Query and subject frames separated by a '/'\n",
      "   \t    qframe means Query frame\n",
      "   \t    sframe means Subject frame\n",
      "   \t      btop means Blast traceback operations (BTOP)\n",
      "   \t    staxid means Subject Taxonomy ID\n",
      "   \t  ssciname means Subject Scientific Name\n",
      "   \t  scomname means Subject Common Name\n",
      "   \tsblastname means Subject Blast Name\n",
      "   \t sskingdom means Subject Super Kingdom\n",
      "   \t   staxids means unique Subject Taxonomy ID(s), separated by a ';'\n",
      "   \t\t\t (in numerical order)\n",
      "   \t sscinames means unique Subject Scientific Name(s), separated by a ';'\n",
      "   \t scomnames means unique Subject Common Name(s), separated by a ';'\n",
      "   \tsblastnames means unique Subject Blast Name(s), separated by a ';'\n",
      "   \t\t\t (in alphabetical order)\n",
      "   \tsskingdoms means unique Subject Super Kingdom(s), separated by a ';'\n",
      "   \t\t\t (in alphabetical order) \n",
      "   \t    stitle means Subject Title\n",
      "   \tsalltitles means All Subject Title(s), separated by a '<>'\n",
      "   \t   sstrand means Subject Strand\n",
      "   \t     qcovs means Query Coverage Per Subject\n",
      "   \t   qcovhsp means Query Coverage Per HSP\n",
      "   \t    qcovus means Query Coverage Per Unique Subject (blastn only)\n",
      "   When not provided, the default value is:\n",
      "   'qseqid sseqid pident length mismatch gapopen gaps qstart qend sstart send\n",
      "   evalue bitscore', which is equivalent to the keyword 'std'\n",
      "   Default = `3'\n",
      " -show_gis\n",
      "   Show NCBI GIs in deflines?\n",
      " -num_descriptions <Integer, >=0>\n",
      "   Number of database sequences to show one-line descriptions for\n",
      "   Not applicable for outfmt > 4\n",
      "   Default = `10'\n",
      " -num_alignments <Integer, >=0>\n",
      "   Number of database sequences to show alignments for\n",
      "   Default = `10'\n",
      " -line_length <Integer, >=1>\n",
      "   Line length for formatting alignments\n",
      "   Not applicable for outfmt > 4\n",
      "   Default = `60'\n",
      "\n",
      " *** Query filtering options\n",
      " -lcase_masking\n",
      "   Use lower case filtering in query and subject sequence(s)?\n",
      "\n",
      " *** Restrict search or results\n",
      " -entrez_query <String>\n",
      "   Restrict search with the given Entrez query\n",
      "    * Requires:  remote\n",
      "\n",
      " *** Statistical options\n",
      " -dbsize <Int8>\n",
      "   Effective length of the database \n",
      " -searchsp <Int8, >=0>\n",
      "   Effective length of the search space\n",
      " -sum_stats <Boolean>\n",
      "   Use sum statistics\n",
      "\n",
      " *** Extension options\n",
      " -ungapped\n",
      "   Perform ungapped alignment only?\n",
      "\n",
      " *** Ig-BLAST options\n",
      " -germline_db_V <String>\n",
      "   Germline database name\n",
      " -num_alignments_V <Integer>\n",
      "   Number of Germline sequences to show alignments for\n",
      "   Default = `3'\n",
      " -germline_db_V_seqidlist <String>\n",
      "   Restrict search of germline database to list of SeqIds's\n",
      " -germline_db_D <String>\n",
      "   Germline database name\n",
      " -num_alignments_D <Integer>\n",
      "   Number of Germline sequences to show alignments for\n",
      "   Default = `3'\n",
      " -germline_db_D_seqidlist <String>\n",
      "   Restrict search of germline database to list of SeqIds's\n",
      " -germline_db_J <String>\n",
      "   Germline database name\n",
      " -num_alignments_J <Integer>\n",
      "   Number of Germline sequences to show alignments for\n",
      "   Default = `3'\n",
      " -germline_db_J_seqidlist <String>\n",
      "   Restrict search of germline database to list of SeqIds's\n",
      " -num_alignments_C <Integer>\n",
      "   Number of Germline sequences to show alignments for\n",
      "   Default = `2'\n",
      " -c_region_db <String>\n",
      "   C region database name\n",
      " -custom_internal_data <String>\n",
      "   custom internal data file for V region annotation\n",
      " -d_frame_data <String>\n",
      "   D gene frame definition file\n",
      " -auxiliary_data <String>\n",
      "   File containing the coding frame start positions for sequences in germline\n",
      "   J database\n",
      " -min_D_match <Integer, >=5>\n",
      "   Required minimal consecutive nucleotide base matches for D genes \n",
      " -V_penalty <Integer, (>-4 and <0)>\n",
      "   Penalty for a nucleotide mismatch in V gene\n",
      "   Default = `-1'\n",
      " -D_penalty <Integer, (>-5 and <0)>\n",
      "   Penalty for a nucleotide mismatch in D gene\n",
      "   Default = `-2'\n",
      " -J_penalty <Integer, (>-4 and <0)>\n",
      "   Penalty for a nucleotide mismatch in J gene\n",
      "   Default = `-2'\n",
      " -num_clonotype <Integer, >=0>\n",
      "   Number of top clonotypes to show \n",
      "   Default = `100'\n",
      " -clonotype_out <File_Out>\n",
      "   Output file name for clonotype info\n",
      " -allow_vdj_overlap\n",
      "   Allow V(D)J genes to overlap.  This option is active only when D_penalty\n",
      "   and J_penalty are set to -4 and -3, respectively\n",
      " -organism <String>\n",
      "   The organism for your query sequence. Supported organisms include human,\n",
      "   mouse, rat, rabbit and rhesus_monkey for Ig and human and mouse for TCR.\n",
      "   Custom organism is also supported but you need to supply your own germline\n",
      "   annotations (see IgBLAST web site for details)\n",
      "   Default = `human'\n",
      " -domain_system <String, `imgt', `kabat'>\n",
      "   Domain system to be used for segment annotation\n",
      "   Default = `imgt'\n",
      " -ig_seqtype <String, `Ig', `TCR'>\n",
      "   Specify Ig or T cell receptor sequence\n",
      "   Default = `Ig'\n",
      " -focus_on_V_segment\n",
      "   Should the search only be for V segment (effective only for non-germline\n",
      "   database search using -db option)?\n",
      " -extend_align5end\n",
      "   Extend V gene alignment at 5' end\n",
      " -extend_align3end\n",
      "   Extend J gene alignment at 3' end\n",
      " -min_V_length <Integer, >=9>\n",
      "   Minimal required V gene length\n",
      "   Default = `9'\n",
      " -min_J_length <Integer, >=0>\n",
      "   Minimal required J gene length\n",
      "   Default = `0'\n",
      " -show_translation\n",
      "   Show translated alignments\n",
      "\n",
      " *** Miscellaneous options\n",
      " -parse_deflines\n",
      "   Should the query and subject defline(s) be parsed?\n",
      " -num_threads <Integer, >=1>\n",
      "   Number of threads (CPUs) to use in the BLAST search\n",
      "   Default = `4'\n",
      "    * Incompatible with:  remote\n",
      " -remote\n",
      "   Execute search remotely?\n",
      "    * Incompatible with:  num_threads\n",
      "\n"
     ]
    },
    {
     "data": {
      "text/plain": [
       "0"
      ]
     },
     "execution_count": 4,
     "metadata": {},
     "output_type": "execute_result"
    }
   ],
   "source": [
    "import os\n",
    "os.system('igblastn -help')"
   ]
  },
  {
   "cell_type": "code",
   "execution_count": null,
   "id": "f0fe1b0c-d9bc-4517-b130-be668f55bf4b",
   "metadata": {},
   "outputs": [],
   "source": []
  },
  {
   "cell_type": "code",
   "execution_count": 2,
   "id": "9b8518c0-eabb-4db7-8e58-3950cccc5cf1",
   "metadata": {},
   "outputs": [
    {
     "data": {
      "text/plain": [
       "0"
      ]
     },
     "execution_count": 2,
     "metadata": {},
     "output_type": "execute_result"
    }
   ],
   "source": [
    "import os\n",
    "\n",
    "cmd = 'igblastn \\\n",
    "    -germline_db_V /usr/local/igblast/database/IGV \\\n",
    "    -germline_db_D /usr/local/igblast/database/IGHD \\\n",
    "    -germline_db_J /usr/local/igblast/database/IGJ \\\n",
    "    -auxiliary_data optional_file/human_gl.aux \\\n",
    "    -query data/todd/SRR4431764merged.fa \\\n",
    "    -outfmt 19 \\\n",
    "    -num_threads 64 \\\n",
    "    -out data/foo'\n",
    "os.system(cmd)"
   ]
  },
  {
   "cell_type": "code",
   "execution_count": 10,
   "id": "2d7a50a7-1d80-4604-be49-41a7ffafaa92",
   "metadata": {},
   "outputs": [
    {
     "name": "stdout",
     "output_type": "stream",
     "text": [
      "sequence_id\tsequence\tsequence_aa\tlocus\tstop_codon\tvj_in_frame\tv_frameshift\tproductive\trev_comp\tcomplete_vdj\td_frame\tv_call\td_call\tj_call\tsequence_alignment\tgermline_alignment\tsequence_alignment_aa\tgermline_alignment_aa\tv_alignment_start\tv_alignment_end\td_alignment_start\td_alignment_end\tj_alignment_start\tj_alignment_end\tv_sequence_alignment\tv_sequence_alignment_aa\tv_germline_alignment\tv_germline_alignment_aa\td_sequence_alignment\td_sequence_alignment_aa\td_germline_alignment\td_germline_alignment_aa\tj_sequence_alignment\tj_sequence_alignment_aa\tj_germline_alignment\tj_germline_alignment_aa\tfwr1\tfwr1_aa\tcdr1\tcdr1_aa\tfwr2\tfwr2_aa\tcdr2\tcdr2_aa\tfwr3\tfwr3_aa\tfwr4\tfwr4_aa\tcdr3\tcdr3_aa\tjunction\tjunction_length\tjunction_aa\tjunction_aa_length\tv_score\td_score\tj_score\tv_cigar\td_cigar\tj_cigar\tv_support\td_support\tj_support\tv_identity\td_identity\tj_identity\tv_sequence_start\tv_sequence_end\tv_germline_start\tv_germline_end\td_sequence_start\td_sequence_end\td_germline_start\td_germline_end\tj_sequence_start\tj_sequ"
     ]
    },
    {
     "data": {
      "text/plain": [
       "0"
      ]
     },
     "execution_count": 10,
     "metadata": {},
     "output_type": "execute_result"
    },
    {
     "name": "stdout",
     "output_type": "stream",
     "text": [
      "ence_end\tj_germline_start\tj_germline_end\tfwr1_start\tfwr1_end\tcdr1_start\tcdr1_end\tfwr2_start\tfwr2_end\tcdr2_start\tcdr2_end\tfwr3_start\tfwr3_end\tfwr4_start\tfwr4_end\tcdr3_start\tcdr3_end\tnp1\tnp1_length\tnp2\tnp2_length\n",
      "SRR4431764.46\tGGGGAAGAGGAAGCGTCGATCTACGGGATTCAAGAGACACGTTGTATCTGCAAATGAACAGCCTGACAACCGAGGACACAGCCGTGTATTACTGTGCCACTATAATCTCCGGATATTGTACTGGTCCTACATGCTCCGCCTTTTGGAACTACTGGGGCCAGGGAACCCTGGTCACCGTCTCCTCAGCATCCCCGACCAGCCCCAAGGTCTTCCCGCTGAGCCTCTGCAGCACCC\tDSRDTLYLQMNSLTTEDTAVYYCATIISGYCTGPTCSAFWNYWGQGTLVTVSSASPTSPKVFPLSLCST\tIGH\tF\tT\tF\tT\tT\tF\t\tIGHV3-15*01,IGHV3-15*02,IGHV3-15*03\tIGHD2-8*02\tIGHJ4*02\tGATTCAAGAGACACGTTGTATCTGCAAATGAACAGCCTGACAACCGAGGACACAGCCGTGTATTACTGTGCCACTATAATCTCCGGATATTGTACTGGTCCTACATGCTCCGCCTTTTGGAACTACTGGGGCCAGGGAACCCTGGTCACCGTCTCCTCAG\tGATTCAAAAAACACGCTGTATCTGCAAATGAACAGCCTGAAAACCGAGGACACAGCCGTGTATTACTGTACCACNNNNNNNNNNGGATATTGTACTGGTNNNNNNNNNNNNNNNNNNNNNNACTACTGGGGCCAGGGAACCCTGGTCACCGTCTCCTCAG\tDSRDTLYLQMNSLTTEDTAVYYCATIISGYCTGPTCSAFWNYWGQGTLVTVSS\tDSKNTLYLQMNSLKTEDTAVYYCTTXXXGYCTGXXXXXXXXYWGQGTLVTVSS\t1\t74\t85\t99\t122\t160\tGATTCAAGAGACACGTTGTATCTGCAAATGAACAGCCTGACAACCGAGGACACAGCCGTGTATTACTGTGCCAC\tDSRDTLYLQMNSLTTEDTAVYYCAT\tGATTCAAAAAACACGCTGTATCTGCAAATGAACAGCCTGAAAACCGAGGACACAGCCGTGTATTACTGTACCAC\tDSKNTLYLQMNSLKTEDTAVYYCTT\tGGATATTGTACTGGT\tGYCTG\tGGATATTGTACTGGT\tGYCTG\tACTACTGGGGCCAGGGAACCCTGGTCACCGTCTCCTCAG\tYWGQGTLVTVSS\tACTACTGGGGCCAGGGAACCCTGGTCACCGTCTCCTCAG\tYWGQGTLVTVSS\t\t\t\t\t\t\t\t\tGATTCAAGAGACACGTTGTATCTGCAAATGAACAGCCTGACAACCGAGGACACAGCCGTGTATTACTGT\tDSRDTLYLQMNSLTTEDTAVYYC\tTGGGGCCAGGGAACCCTGGTCACCGTCTCCTCA\tWGQGTLVTVSS\tGCCACTATAATCTCCGGATATTGTACTGGTCCTACATGCTCCGCCTTTTGGAACTAC\tATIISGYCTGPTCSAFWNY\tTGTGCCACTATAATCTCCGGATATTGTACTGGTCCTACATGCTCCGCCTTTTGGAACTACTGG\t63\tCATIISGYCTGPTCSAFWNYW\t21\t101.556\t29.528\t75.672\t26S225N74M134S3N\t110S1N15M109S15N\t147S9N39M48S\t1.008e-23\t2.000e-04\t4.119e-18\t93.243\t100.000\t100.000\t27\t100\t226\t299\t111\t125\t2\t16\t148\t186\t10\t48\t\t\t\t\t\t\t\t\t27\t95\t153\t185\t96\t152\tTATAATCTCC\t10\tCCTACATGCTCCGCCTTTTGGA\t22\n"
     ]
    }
   ],
   "source": [
    "import os\n",
    "os.system('head -2 data/todd/foo')"
   ]
  },
  {
   "cell_type": "code",
   "execution_count": 7,
   "id": "7b32a81b-ebc9-42f5-9f99-068786690a0a",
   "metadata": {},
   "outputs": [
    {
     "data": {
      "text/plain": [
       "'/usr/local/igblast/bin'"
      ]
     },
     "execution_count": 7,
     "metadata": {},
     "output_type": "execute_result"
    }
   ],
   "source": [
    "env IGDATA"
   ]
  },
  {
   "cell_type": "code",
   "execution_count": null,
   "id": "8af45b9d-2297-4e78-b949-db3fbc8452b2",
   "metadata": {},
   "outputs": [],
   "source": []
  }
 ],
 "metadata": {
  "kernelspec": {
   "display_name": "Python 3 (ipykernel)",
   "language": "python",
   "name": "python3"
  },
  "language_info": {
   "codemirror_mode": {
    "name": "ipython",
    "version": 3
   },
   "file_extension": ".py",
   "mimetype": "text/x-python",
   "name": "python",
   "nbconvert_exporter": "python",
   "pygments_lexer": "ipython3",
   "version": "3.11.4"
  }
 },
 "nbformat": 4,
 "nbformat_minor": 5
}
