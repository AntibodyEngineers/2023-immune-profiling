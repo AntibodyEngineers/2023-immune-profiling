{
 "cells": [
  {
   "cell_type": "code",
   "execution_count": 1,
   "id": "25db82b4-9ce6-476d-bd13-54c84e2ca325",
   "metadata": {},
   "outputs": [],
   "source": [
    "##\n",
    "## Keith Loritz: 2023AUG11\n",
    "##\n",
    "## This was my starting point for the 2023 Hackathon\n",
    "## I utilized this notebook to get familiar with the environment\n",
    "## It is mostly the same as what Todd had provided with addition of other code also provided by Todd\n",
    "## \n",
    "## I saved this as my base reference for starting point and \n",
    "## Started working with the \"Todd-base-2023AUG09.ipynb\" notebook instead.\n",
    "##\n",
    "##\n",
    "## The line below is not needed, already part of our environment\n",
    "##pip install biopython"
   ]
  },
  {
   "cell_type": "code",
   "execution_count": 2,
   "id": "1ba20cf3-50b4-43ee-ac06-20618b692a50",
   "metadata": {},
   "outputs": [],
   "source": [
    "import os\n",
    "import sys"
   ]
  },
  {
   "cell_type": "code",
   "execution_count": 3,
   "id": "77788daf-e066-4d3a-82cb-db757c1d1d56",
   "metadata": {},
   "outputs": [
    {
     "data": {
      "text/plain": [
       "'/opt/jupyterhub/bin/python3'"
      ]
     },
     "execution_count": 3,
     "metadata": {},
     "output_type": "execute_result"
    }
   ],
   "source": [
    "sys.executable"
   ]
  },
  {
   "cell_type": "code",
   "execution_count": 4,
   "id": "f7f7c47e-38b2-4fb1-96e6-d90e612995aa",
   "metadata": {},
   "outputs": [],
   "source": [
    "import numpy\n",
    "import pandas as pd\n",
    "import matplotlib.pyplot as plt\n",
    "import math\n",
    "import Bio\n",
    "import os, json, argparse, string, subprocess, re"
   ]
  },
  {
   "cell_type": "code",
   "execution_count": null,
   "id": "1d58480c-5e92-46e7-8ed8-2d50dedd0138",
   "metadata": {},
   "outputs": [],
   "source": [
    "df = pd.read_csv(\"../igblast_data/SRR4431764merged.igblast\",sep='\\t')"
   ]
  },
  {
   "cell_type": "code",
   "execution_count": 6,
   "id": "2110b03a-89be-4561-a235-f83d2500d12b",
   "metadata": {},
   "outputs": [
    {
     "name": "stdout",
     "output_type": "stream",
     "text": [
      "                sequence_id  \\\n",
      "0             SRR4431764.46   \n",
      "1             SRR4431764.59   \n",
      "2             SRR4431764.67   \n",
      "3             SRR4431764.70   \n",
      "4             SRR4431764.73   \n",
      "...                     ...   \n",
      "1143805  SRR4431764.1701094   \n",
      "1143806  SRR4431764.1701099   \n",
      "1143807  SRR4431764.1701102   \n",
      "1143808  SRR4431764.1701104   \n",
      "1143809  SRR4431764.1701105   \n",
      "\n",
      "                                                  sequence  \\\n",
      "0        GGGGAAGAGGAAGCGTCGATCTACGGGATTCAAGAGACACGTTGTA...   \n",
      "1        TGGATAACATATCACATTCTACGGGGAGTCAGTCCCAACCAGGACA...   \n",
      "2        TCTTCTAAACATTCACGGATCTACGGGGAGGGCCAGTGCTGGGGTC...   \n",
      "3        GACACTTTAATATATCATCTACGGGCCTAAGCTCCTGATCTACGAT...   \n",
      "4        TTAGGAATCCTTCTTTCATACGGGAGTGGTAGTGGTGGTAGCACAT...   \n",
      "...                                                    ...   \n",
      "1143805  GACCCTTTTATAGGCTACAATACGGGGAGGATGCCGCGTCTGTGAA...   \n",
      "1143806  TCATCTAATGGTCACAATGAGTTGATCTACGGGAGGCTCTGCTTCA...   \n",
      "1143807  GGTAAATACTATATCATCGATACGGGGACTGCTCAGTTAGGACCCA...   \n",
      "1143808  AGCTTAACATTAATCAAATACGGGGGGAGAGGAGCCCCAGCCTTGG...   \n",
      "1143809  GGGCAAATGTTTTTTAAATACGGGAGTCAGTCTCAGTCAGGACACA...   \n",
      "\n",
      "                                               sequence_aa locus stop_codon  \\\n",
      "0        DSRDTLYLQMNSLTTEDTAVYYCATIISGYCTGPTCSAFWNYWGQG...   IGH          F   \n",
      "1         DIQMTQSPSSLSASVGDRVTITCQASQDISDYVNWYQQKPGTVAAPSV   IGK          F   \n",
      "2        QSALTQPASVSGSPGQSVTISCTGTSRDVGSYNLVSWYQQHPGKAP...   IGL          F   \n",
      "3        PKLLIYDASNLETGVPSRFSGSGSGTDFTFTISSLQPEDIATYYCQ...   IGK          F   \n",
      "4        SGSGGSTYYADSVKGRFTISRDNSKNTLYLQMNSLRAEDTAVYYCA...   IGH          F   \n",
      "...                                                    ...   ...        ...   \n",
      "1143805  ASVKGRFTILRDDSKSIAYLQMESLKTEDTAVYYCAVGYCSNTDCY...   IGH          F   \n",
      "1143806  QSVLTQPPSVSGAPGQRVTISCTGSGSNLGANYDVHWYQLLPGTAP...   IGL          F   \n",
      "1143807  EIVLTQSPATLSLSPGERATLSCRASQSISDYLAWYQQKPGQAPRL...   IGK          F   \n",
      "1143808  EVQLVESGGGLVKPGGSLRLSCVASGFXFSTXWMRWFRQAPGKGLE...   IGH          F   \n",
      "1143809  SGVPSTFRGSGSVTDFTLTISNLQAEDSATYYCQQGFGVPLTFGGG...   IGK          F   \n",
      "\n",
      "        vj_in_frame v_frameshift productive rev_comp complete_vdj  ...  \\\n",
      "0                 T            F          T        T            F  ...   \n",
      "1               NaN          NaN        NaN        T            F  ...   \n",
      "2                 T            F          T        T            T  ...   \n",
      "3                 F            F          F        T            F  ...   \n",
      "4                 T            F          T        T            F  ...   \n",
      "...             ...          ...        ...      ...          ...  ...   \n",
      "1143805           T            F          T        T            F  ...   \n",
      "1143806           T            F          T        T            T  ...   \n",
      "1143807           T            F          T        T            T  ...   \n",
      "1143808           T            F          T        T            T  ...   \n",
      "1143809           T            F          T        T            F  ...   \n",
      "\n",
      "         fwr3_start fwr3_end fwr4_start fwr4_end cdr3_start cdr3_end  \\\n",
      "0              27.0     95.0      153.0    185.0       96.0    152.0   \n",
      "1               NaN      NaN        NaN      NaN        NaN      NaN   \n",
      "2             298.0    405.0      436.0    465.0      406.0    435.0   \n",
      "3              53.0    160.0      189.0    218.0      161.0    188.0   \n",
      "4              46.0    159.0      235.0    267.0      160.0    234.0   \n",
      "...             ...      ...        ...      ...        ...      ...   \n",
      "1143805        33.0    140.0      210.0    243.0      141.0    209.0   \n",
      "1143806       306.0    413.0      447.0    476.0      414.0    446.0   \n",
      "1143807       272.0    379.0      407.0    436.0      380.0    406.0   \n",
      "1143808       334.0    447.0      490.0    522.0      448.0    489.0   \n",
      "1143809       187.0    285.0      313.0    342.0      286.0    312.0   \n",
      "\n",
      "                                np1 np1_length                     np2  \\\n",
      "0                        TATAATCTCC       10.0  CCTACATGCTCCGCCTTTTGGA   \n",
      "1                               NaN        NaN                     NaN   \n",
      "2                               NaN        0.0                     NaN   \n",
      "3                               GGT        3.0                     NaN   \n",
      "4        TTTTTCCCCTACGTTTGAGAGGTCCG       26.0                TAGGGCCA   \n",
      "...                             ...        ...                     ...   \n",
      "1143805                     CGCAGTC        7.0            GGAAGTCTTGGG   \n",
      "1143806                         NaN        0.0                     NaN   \n",
      "1143807                         ACA        3.0                     NaN   \n",
      "1143808                      GGTCCC        6.0       AGAAGACCCAGGCAGAG   \n",
      "1143809                 TCGGCGTCCCA       11.0                     NaN   \n",
      "\n",
      "         np2_length  \n",
      "0              22.0  \n",
      "1               NaN  \n",
      "2               NaN  \n",
      "3               NaN  \n",
      "4               8.0  \n",
      "...             ...  \n",
      "1143805        12.0  \n",
      "1143806         NaN  \n",
      "1143807         NaN  \n",
      "1143808        17.0  \n",
      "1143809         NaN  \n",
      "\n",
      "[1143810 rows x 96 columns]\n"
     ]
    }
   ],
   "source": [
    "print(df)"
   ]
  },
  {
   "cell_type": "code",
   "execution_count": 7,
   "id": "a70d3104-2caf-4fc5-aad8-117f040582ea",
   "metadata": {},
   "outputs": [
    {
     "data": {
      "image/png": "[encoded data removed]",
      "text/plain": [
       "<Figure size 432x288 with 1 Axes>"
      ]
     },
     "metadata": {
      "needs_background": "light"
     },
     "output_type": "display_data"
    }
   ],
   "source": [
    "# add a new column with the length of the sequences \n",
    "df['seq_len'] = df['sequence'].apply(len)\n",
    "seq_len_counts = df['seq_len'].value_counts()\n",
    "\n",
    "#print(df[['sequence', 'seq_len']])\n",
    "#print(seq_len_counts)\n",
    "\n",
    "seq_len_counts = seq_len_counts.sort_index()\n",
    "\n",
    "# Plot the distribution of sequence lengths\n",
    "import matplotlib.pyplot as plt\n",
    "plt.bar(seq_len_counts.index, seq_len_counts.values)\n",
    "plt.xlabel('Sequence Length')\n",
    "plt.ylabel('Count')\n",
    "plt.title('Distribution of Sequence Lengths')\n",
    "plt.show()\n",
    "plt.close()"
   ]
  },
  {
   "cell_type": "code",
   "execution_count": null,
   "id": "2f18636e-b309-4b0e-bfb9-19d547c8bf71",
   "metadata": {},
   "outputs": [],
   "source": []
  },
  {
   "cell_type": "code",
   "execution_count": 8,
   "id": "ad193018-b63a-4537-ba87-724b73a54fdc",
   "metadata": {},
   "outputs": [
    {
     "data": {
      "image/png": "[encoded data removed]",
      "text/plain": [
       "<Figure size 576x576 with 2 Axes>"
      ]
     },
     "metadata": {
      "needs_background": "light"
     },
     "output_type": "display_data"
    }
   ],
   "source": [
    "df['seq_len'] = df['sequence'].apply(len)\n",
    "\n",
    "# Filter the data where 'productive' is 'T'\n",
    "productive_df = df[df['productive'] == 'T']\n",
    "\n",
    "# Filter the data where 'productive' is 'F'\n",
    "non_productive_df = df[df['productive'] == 'F']\n",
    "\n",
    "# Count the occurrences of each sequence length for productive and non-productive sequences\n",
    "productive_seq_len_counts = productive_df['seq_len'].value_counts().sort_index()\n",
    "non_productive_seq_len_counts = non_productive_df['seq_len'].value_counts().sort_index()\n",
    "\n",
    "# Create a 2x1 subplot layout\n",
    "fig, axes = plt.subplots(2, 1, figsize=(8, 8), sharex=True)\n",
    "\n",
    "# Plot the distribution of sequence lengths for productive sequences\n",
    "axes[0].bar(productive_seq_len_counts.index, productive_seq_len_counts.values)\n",
    "axes[0].set_ylabel('Count')\n",
    "axes[0].set_title('Distribution of Sequence Lengths for Productive Sequences')\n",
    "\n",
    "# Plot the distribution of sequence lengths for non-productive sequences\n",
    "axes[1].bar(non_productive_seq_len_counts.index, non_productive_seq_len_counts.values)\n",
    "axes[1].set_xlabel('Sequence Length')\n",
    "axes[1].set_ylabel('Count')\n",
    "axes[1].set_title('Distribution of Sequence Lengths for Non-Productive Sequences')\n",
    "\n",
    "plt.tight_layout()\n",
    "plt.show()\n",
    "plt.close()"
   ]
  },
  {
   "cell_type": "code",
   "execution_count": 9,
   "id": "2fbc51e0-f469-435a-917b-86d2dadfa1e1",
   "metadata": {
    "scrolled": true
   },
   "outputs": [
    {
     "data": {
      "image/png": "[encoded data removed]",
      "text/plain": [
       "<Figure size 720x432 with 1 Axes>"
      ]
     },
     "metadata": {
      "needs_background": "light"
     },
     "output_type": "display_data"
    }
   ],
   "source": [
    "import pandas as pd\n",
    "import matplotlib.pyplot as plt\n",
    "\n",
    "# Assuming 'df' is your pandas DataFrame with columns 'sequence', 'productive', and 'seq_len'\n",
    "\n",
    "# Create a new column 'seq_len' that contains the length of each sequence\n",
    "df['seq_len'] = df['sequence'].apply(len)\n",
    "\n",
    "# Filter the data where 'productive' is 'T'\n",
    "productive_df = df[df['productive'] == 'T']\n",
    "\n",
    "# Filter the data where 'productive' is 'F'\n",
    "non_productive_df = df[df['productive'] == 'F']\n",
    "\n",
    "# Count the occurrences of each sequence length for productive and non-productive sequences\n",
    "productive_seq_len_counts = productive_df['seq_len'].value_counts().sort_index()\n",
    "non_productive_seq_len_counts = non_productive_df['seq_len'].value_counts().sort_index()\n",
    "\n",
    "# Create a single plot with two bars side by side\n",
    "fig, ax = plt.subplots(figsize=(10, 6))\n",
    "\n",
    "# Plot the distribution of sequence lengths for productive sequences (in blue)\n",
    "ax.bar(productive_seq_len_counts.index - 0.2, productive_seq_len_counts.values, width=0.4, color='blue', label='Productive')\n",
    "\n",
    "# Plot the distribution of sequence lengths for non-productive sequences (in red)\n",
    "ax.bar(non_productive_seq_len_counts.index + 0.2, non_productive_seq_len_counts.values, width=0.4, color='red', label='Non-Productive')\n",
    "\n",
    "ax.set_xlabel('Sequence Length')\n",
    "ax.set_ylabel('Count')\n",
    "ax.set_title('Distribution of Sequence Lengths for Productive and Non-Productive Sequences')\n",
    "ax.legend()\n",
    "\n",
    "plt.show()\n",
    "plt.close()"
   ]
  },
  {
   "cell_type": "code",
   "execution_count": 10,
   "id": "7ef73836-c0eb-4e76-bf3a-f5d0e9722719",
   "metadata": {},
   "outputs": [
    {
     "name": "stdout",
     "output_type": "stream",
     "text": [
      "Value counts for column 'fwr1_aa':\n",
      "fwr1_aa\n",
      "DIQMTQSPSSLSASVGDRVTITCRAS    51043\n",
      "QSALTQPASVSGSPGQSITISCTGT     42758\n",
      "EIVLTQSPGTLSLSPGERATLSCRAS    29642\n",
      "DIVMTQSPDSLAVSLGERATINCKSS    28928\n",
      "EIVLTQSPATLSLSPGERATLSCRAS    25195\n",
      "                              ...  \n",
      "QLVLTPSPSASASLGASVKLTCTLN         1\n",
      "EVHLLESGGGLVQPGGSLRLSCVAA         1\n",
      "DIPMTQSPSSLSAFVGDRVTITFRAN        1\n",
      "VVLTQSPVSLAVALGQSVSISCRSA         1\n",
      "EVQLLESGGGFVKPGGSLRLSCAAP         1\n",
      "Name: count, Length: 67284, dtype: int64\n",
      "Total: '963708'\n",
      "-----------------------\n",
      "Value counts for column 'cdr1_aa':\n",
      "cdr1_aa\n",
      "SSDVGGYNY       34714\n",
      "QSISSY          30443\n",
      "QSVSSSY         25673\n",
      "QSVSSN          24718\n",
      "QSVSSY          23637\n",
      "                ...  \n",
      "KGISSG              1\n",
      "QNINMR              1\n",
      "QSGWASSNNKNY        1\n",
      "SCDLCGFNY           1\n",
      "GFXFSTXW            1\n",
      "Name: count, Length: 37124, dtype: int64\n",
      "Total: '963708'\n",
      "-----------------------\n",
      "Value counts for column 'fwr2_aa':\n",
      "fwr2_aa\n",
      "LAWYQQKPGQAPRLLIY    87592\n",
      "LNWYQQKPGKAPKLLIY    43307\n",
      "VSWYQQHPGKAPKLMIY    40114\n",
      "LAWYQQKPGKAPKLLIY    34475\n",
      "LDWYLQKPGQSPQLLIY    26564\n",
      "                     ...  \n",
      "WYQQKPGKAPNLLIY          1\n",
      "LSLLQ                    1\n",
      "LDWYQQRPGQAPRLLVY        1\n",
      "ISWYHQSAGEAHKLILY        1\n",
      "MRWFRQAPGKGLESIGR        1\n",
      "Name: count, Length: 48907, dtype: int64\n",
      "Total: '963708'\n",
      "-----------------------\n",
      "Value counts for column 'cdr2_aa':\n",
      "cdr2_aa\n",
      "GAS           100362\n",
      "AAS            89477\n",
      "DAS            62330\n",
      "WAS            50966\n",
      "EVS            48337\n",
      "               ...  \n",
      "MSSSGSKV           1\n",
      "IYSSGNP            1\n",
      "IDSSGKT            1\n",
      "TRNRANTSTK         1\n",
      "IGGRGENP           1\n",
      "Name: count, Length: 11703, dtype: int64\n",
      "Total: '963708'\n",
      "-----------------------\n",
      "Value counts for column 'fwr3_aa':\n",
      "fwr3_aa\n",
      "SLQSGVPSRFSGSGSGTDFTLTISSLQPEDFATYYC     29993\n",
      "SRATGIPDRFSGSGSGTDFTLTISRLEPEDFAVYYC     26567\n",
      "NRATGIPARFSGSGSGTDFTLTISSLEPEDFAVYYC     21721\n",
      "TRESGVPDRFSGSGSGTDFTLTISSLQAEDVAVYYC     21621\n",
      "TRATGIPARFSGSGSGTEFTLTISSLQSEDFAVYYC     20321\n",
      "                                         ...  \n",
      "HRPSGIPERFSGSNAGNTATLTISRAEAGDEADYFC         1\n",
      "SLQSGVPSMFSGSGSGTDFTLTISSLQPEDFAAYYC         1\n",
      "KRPSGNPDRFSGSKSGTSATLDITGLQTGDEADYYC         1\n",
      "KRHSGGPDRFSGSKSGTSAALAISGLRSEEEADYYC         1\n",
      "FYAASVRGRFTISRDNSNTLYLHMNSLRAEDTAEYYC        1\n",
      "Name: count, Length: 107167, dtype: int64\n",
      "Total: '963708'\n",
      "-----------------------\n",
      "Value counts for column 'fwr4_aa':\n",
      "fwr4_aa\n",
      "FGGGTKLTVL     177962\n",
      "FGQGTKVEIK     111887\n",
      "FGGGTKVEIK      85475\n",
      "FGQGTKLEIK      78558\n",
      "WGQGTLVTVSS     70796\n",
      "                ...  \n",
      "WGQVSLVTMSS         1\n",
      "WGDGPLVAVAS         1\n",
      "WGQGILGTVS          1\n",
      "WGQGTKSTVS          1\n",
      "WGQGTTVSVYS         1\n",
      "Name: count, Length: 8461, dtype: int64\n",
      "Total: '963708'\n",
      "-----------------------\n",
      "Value counts for column 'cdr3_aa':\n",
      "cdr3_aa\n",
      "QQSYSTPRT        3642\n",
      "AAWDDSLNGWV      3572\n",
      "QQYYTSPWT        3522\n",
      "QQYDDWPPIT       3515\n",
      "AAWDDSLNGPNWV    3401\n",
      "                 ... \n",
      "QVWDSNSDHQGYV       1\n",
      "SSYTISSTIPWV        1\n",
      "VLWLGGYYD           1\n",
      "QSLDSSLSAYV         1\n",
      "QACDSFTAF           1\n",
      "Name: count, Length: 91044, dtype: int64\n",
      "Total: '963708'\n",
      "-----------------------\n"
     ]
    }
   ],
   "source": [
    "columns_to_count = ['fwr1_aa', 'cdr1_aa', 'fwr2_aa', 'cdr2_aa', 'fwr3_aa', 'fwr4_aa', 'cdr3_aa']\n",
    "\n",
    "prod_df=df[df['productive'] == 'T'] #global filter\n",
    "\n",
    "for column in columns_to_count:\n",
    "    counts = prod_df[column].value_counts()\n",
    "    print(f\"Value counts for column '{column}':\")\n",
    "    print(counts)\n",
    "    print(f\"Total: '{prod_df.shape[0]}'\")\n",
    "    print(\"-----------------------\")"
   ]
  },
  {
   "cell_type": "code",
   "execution_count": 11,
   "id": "ed536e8d-788e-4e39-bd81-ad532f4fd49d",
   "metadata": {},
   "outputs": [
    {
     "name": "stdout",
     "output_type": "stream",
     "text": [
      "Filtered value counts for column 'fwr1_aa':\n",
      "7338\n",
      "-----------------------\n",
      "Filtered value counts for column 'cdr1_aa':\n",
      "8073\n",
      "-----------------------\n",
      "Filtered value counts for column 'fwr2_aa':\n",
      "7702\n",
      "-----------------------\n",
      "Filtered value counts for column 'cdr2_aa':\n",
      "3782\n",
      "-----------------------\n",
      "Filtered value counts for column 'fwr3_aa':\n",
      "11646\n",
      "-----------------------\n",
      "Filtered value counts for column 'fwr4_aa':\n",
      "2070\n",
      "-----------------------\n",
      "Filtered value counts for column 'cdr3_aa':\n",
      "15276\n",
      "-----------------------\n"
     ]
    }
   ],
   "source": [
    "import seaborn as sns\n",
    "columns_to_count = ['fwr1_aa', 'cdr1_aa', 'fwr2_aa', 'cdr2_aa', 'fwr3_aa', 'fwr4_aa', 'cdr3_aa']\n",
    "\n",
    "df[df['productive'] == 'T']\n",
    "\n",
    "for column in columns_to_count:\n",
    "    # Calculate the value counts for the column\n",
    "    counts = df[column].value_counts()\n",
    "    # Filter the value counts for values greater than 1\n",
    "    filtered_counts = counts[counts > 10]\n",
    "    diversity = filtered_counts.shape[0]\n",
    "    \n",
    "    print(f\"Filtered value counts for column '{column}':\")\n",
    "    print(diversity)\n",
    "    print(\"-----------------------\")"
   ]
  },
  {
   "cell_type": "code",
   "execution_count": 12,
   "id": "e774f58e-9393-41f5-af54-84479b810f02",
   "metadata": {},
   "outputs": [
    {
     "data": {
      "image/png": "[encoded data removed]",
      "text/plain": [
       "<Figure size 720x432 with 1 Axes>"
      ]
     },
     "metadata": {
      "needs_background": "light"
     },
     "output_type": "display_data"
    }
   ],
   "source": [
    "# Assuming 'df' is your pandas DataFrame containing the columns 'fwr1_aa', 'cdr1_aa', 'fwr2_aa', 'cdr2_aa', 'fwr3_aa', 'fwr4_aa', and 'cdr3_aa'\n",
    "\n",
    "columns_to_count = ['fwr1_aa', 'cdr1_aa', 'fwr2_aa', 'cdr2_aa', 'fwr3_aa', 'fwr4_aa', 'cdr3_aa']\n",
    "\n",
    "# Initialize lists to store the column names and their respective diversities\n",
    "column_names = []\n",
    "diversities = []\n",
    "\n",
    "for column in columns_to_count:\n",
    "    # Calculate the value counts for the column\n",
    "    counts = df[column].value_counts()\n",
    "    # Filter the value counts for values greater than 10\n",
    "    filtered_counts = counts[counts > 1]\n",
    "    # Calculate the diversity (number of unique values with count > 10)\n",
    "    diversity = filtered_counts.shape[0]\n",
    "    \n",
    "    # Append column name and diversity to the lists\n",
    "    column_names.append(column)\n",
    "    diversities.append(diversity)\n",
    "\n",
    "# Create the bar plot for column names and their diversities\n",
    "plt.figure(figsize=(10, 6))\n",
    "sns.barplot(x=column_names, y=diversities)\n",
    "plt.xlabel('Column')\n",
    "plt.ylabel('Diversity (Number of Unique Values with Count > 10)')\n",
    "plt.title('Diversity of Unique Values for FW and CD Regions')\n",
    "plt.xticks(rotation=45)\n",
    "plt.tight_layout()\n",
    "plt.show()"
   ]
  },
  {
   "cell_type": "code",
   "execution_count": 13,
   "id": "744719de-e854-4751-9cee-d5eb12a6c9ae",
   "metadata": {},
   "outputs": [
    {
     "data": {
      "image/png": "[encoded data removed]",
      "text/plain": [
       "<Figure size 1080x864 with 7 Axes>"
      ]
     },
     "metadata": {
      "needs_background": "light"
     },
     "output_type": "display_data"
    }
   ],
   "source": [
    "import pandas as pd\n",
    "import seaborn as sns\n",
    "import matplotlib.pyplot as plt\n",
    "import numpy as np\n",
    "\n",
    "# Assuming 'df' is your pandas DataFrame containing the columns 'fwr1_aa', 'cdr1_aa', 'fwr2_aa', 'cdr2_aa', 'fwr3_aa', 'fwr4_aa', and 'cdr3_aa'\n",
    "\n",
    "columns_to_count = ['fwr1_aa', 'cdr1_aa', 'fwr2_aa', 'cdr2_aa', 'fwr3_aa', 'fwr4_aa', 'cdr3_aa']\n",
    "\n",
    "# Initialize lists to store the column names and their respective diversities\n",
    "column_names = []\n",
    "diversities = []\n",
    "\n",
    "# Precompute the histogram data for each column\n",
    "hist_data = {}\n",
    "for column in columns_to_count:\n",
    "    # Calculate the value counts for the column\n",
    "    counts = df[column].value_counts()\n",
    "    # Filter the value counts for values greater than 1\n",
    "    filtered_counts = counts[counts > 10]\n",
    "    # Calculate the diversity (number of unique values with count > 1)\n",
    "    diversity = filtered_counts.shape[0]\n",
    "    \n",
    "    # Append column name and diversity to the lists\n",
    "    column_names.append(column)\n",
    "    diversities.append(diversity)\n",
    "\n",
    "    # Precompute the histogram data using value_counts() and store it in hist_data dictionary\n",
    "    hist_data[column] = filtered_counts.values\n",
    "\n",
    "# Get the common ymax value (maximum value across all histograms)\n",
    "all_values = [value for column_values in hist_data.values() for value in column_values]\n",
    "ymax = max(all_values)\n",
    "\n",
    "# Plot histograms for each column with 10 bins on log scale with the common ymax\n",
    "num_rows = len(columns_to_count) // 3 + 1\n",
    "plt.figure(figsize=(15, 12))\n",
    "for i, column in enumerate(columns_to_count):\n",
    "    plt.subplot(num_rows, 3, i + 1)\n",
    "    values = hist_data[column]\n",
    "    plt.hist(values, bins=10)\n",
    "    plt.yscale('log')  # Set y-axis to log scale\n",
    "    plt.xlabel('Value')\n",
    "    plt.ylabel('Frequency (log scale)')\n",
    "    plt.title(f'Histogram for {column}')\n",
    "    #plt.ylim(0.1, ymax * 10)  # Set the common ymax value for all subplots\n",
    "    \n",
    "plt.tight_layout()\n",
    "plt.show()"
   ]
  },
  {
   "cell_type": "code",
   "execution_count": 14,
   "id": "ca39bdf1-5ded-4b96-ba96-0eed725d842a",
   "metadata": {},
   "outputs": [
    {
     "name": "stdout",
     "output_type": "stream",
     "text": [
      "Table for column 'fwr1_aa':\n",
      "                         sequence  number      frac\n",
      "0      DIQMTQSPSSLSASVGDRVTITCRAS   51043  0.052965\n",
      "1       QSALTQPASVSGSPGQSITISCTGT   42758  0.044368\n",
      "2      EIVLTQSPGTLSLSPGERATLSCRAS   29642  0.030758\n",
      "3      DIVMTQSPDSLAVSLGERATINCKSS   28928  0.030017\n",
      "4      EIVLTQSPATLSLSPGERATLSCRAS   25195  0.026144\n",
      "...                           ...     ...       ...\n",
      "67279   QLVLTPSPSASASLGASVKLTCTLN       1  0.000001\n",
      "67280   EVHLLESGGGLVQPGGSLRLSCVAA       1  0.000001\n",
      "67281  DIPMTQSPSSLSAFVGDRVTITFRAN       1  0.000001\n",
      "67282   VVLTQSPVSLAVALGQSVSISCRSA       1  0.000001\n",
      "67283   EVQLLESGGGFVKPGGSLRLSCAAP       1  0.000001\n",
      "\n",
      "[67284 rows x 3 columns]\n",
      "-----------------------\n",
      "Table for column 'cdr1_aa':\n",
      "           sequence  number      frac\n",
      "0         SSDVGGYNY   34714  0.036021\n",
      "1            QSISSY   30443  0.031589\n",
      "2           QSVSSSY   25673  0.026640\n",
      "3            QSVSSN   24718  0.025649\n",
      "4            QSVSSY   23637  0.024527\n",
      "...             ...     ...       ...\n",
      "37119        KGISSG       1  0.000001\n",
      "37120        QNINMR       1  0.000001\n",
      "37121  QSGWASSNNKNY       1  0.000001\n",
      "37122     SCDLCGFNY       1  0.000001\n",
      "37123      GFXFSTXW       1  0.000001\n",
      "\n",
      "[37124 rows x 3 columns]\n",
      "-----------------------\n",
      "Table for column 'fwr2_aa':\n",
      "                sequence  number      frac\n",
      "0      LAWYQQKPGQAPRLLIY   87592  0.090891\n",
      "1      LNWYQQKPGKAPKLLIY   43307  0.044938\n",
      "2      VSWYQQHPGKAPKLMIY   40114  0.041625\n",
      "3      LAWYQQKPGKAPKLLIY   34475  0.035773\n",
      "4      LDWYLQKPGQSPQLLIY   26564  0.027564\n",
      "...                  ...     ...       ...\n",
      "48902    WYQQKPGKAPNLLIY       1  0.000001\n",
      "48903              LSLLQ       1  0.000001\n",
      "48904  LDWYQQRPGQAPRLLVY       1  0.000001\n",
      "48905  ISWYHQSAGEAHKLILY       1  0.000001\n",
      "48906  MRWFRQAPGKGLESIGR       1  0.000001\n",
      "\n",
      "[48907 rows x 3 columns]\n",
      "-----------------------\n",
      "Table for column 'cdr2_aa':\n",
      "         sequence  number      frac\n",
      "0             GAS  100362  0.104142\n",
      "1             AAS   89477  0.092847\n",
      "2             DAS   62330  0.064677\n",
      "3             WAS   50966  0.052885\n",
      "4             EVS   48337  0.050157\n",
      "...           ...     ...       ...\n",
      "11698    MSSSGSKV       1  0.000001\n",
      "11699     IYSSGNP       1  0.000001\n",
      "11700     IDSSGKT       1  0.000001\n",
      "11701  TRNRANTSTK       1  0.000001\n",
      "11702    IGGRGENP       1  0.000001\n",
      "\n",
      "[11703 rows x 3 columns]\n",
      "-----------------------\n",
      "Table for column 'fwr3_aa':\n",
      "                                     sequence  number      frac\n",
      "0        SLQSGVPSRFSGSGSGTDFTLTISSLQPEDFATYYC   29993  0.031122\n",
      "1        SRATGIPDRFSGSGSGTDFTLTISRLEPEDFAVYYC   26567  0.027567\n",
      "2        NRATGIPARFSGSGSGTDFTLTISSLEPEDFAVYYC   21721  0.022539\n",
      "3        TRESGVPDRFSGSGSGTDFTLTISSLQAEDVAVYYC   21621  0.022435\n",
      "4        TRATGIPARFSGSGSGTEFTLTISSLQSEDFAVYYC   20321  0.021086\n",
      "...                                       ...     ...       ...\n",
      "107162   HRPSGIPERFSGSNAGNTATLTISRAEAGDEADYFC       1  0.000001\n",
      "107163   SLQSGVPSMFSGSGSGTDFTLTISSLQPEDFAAYYC       1  0.000001\n",
      "107164   KRPSGNPDRFSGSKSGTSATLDITGLQTGDEADYYC       1  0.000001\n",
      "107165   KRHSGGPDRFSGSKSGTSAALAISGLRSEEEADYYC       1  0.000001\n",
      "107166  FYAASVRGRFTISRDNSNTLYLHMNSLRAEDTAEYYC       1  0.000001\n",
      "\n",
      "[107167 rows x 3 columns]\n",
      "-----------------------\n",
      "Table for column 'fwr4_aa':\n",
      "         sequence  number      frac\n",
      "0      FGGGTKLTVL  177962  0.184664\n",
      "1      FGQGTKVEIK  111887  0.116101\n",
      "2      FGGGTKVEIK   85475  0.088694\n",
      "3      FGQGTKLEIK   78558  0.081516\n",
      "4     WGQGTLVTVSS   70796  0.073462\n",
      "...           ...     ...       ...\n",
      "8456  WGQVSLVTMSS       1  0.000001\n",
      "8457  WGDGPLVAVAS       1  0.000001\n",
      "8458   WGQGILGTVS       1  0.000001\n",
      "8459   WGQGTKSTVS       1  0.000001\n",
      "8460  WGQGTTVSVYS       1  0.000001\n",
      "\n",
      "[8461 rows x 3 columns]\n",
      "-----------------------\n",
      "Table for column 'cdr3_aa':\n",
      "            sequence  number      frac\n",
      "0          QQSYSTPRT    3642  0.003779\n",
      "1        AAWDDSLNGWV    3572  0.003707\n",
      "2          QQYYTSPWT    3522  0.003655\n",
      "3         QQYDDWPPIT    3515  0.003647\n",
      "4      AAWDDSLNGPNWV    3401  0.003529\n",
      "...              ...     ...       ...\n",
      "91039  QVWDSNSDHQGYV       1  0.000001\n",
      "91040   SSYTISSTIPWV       1  0.000001\n",
      "91041      VLWLGGYYD       1  0.000001\n",
      "91042    QSLDSSLSAYV       1  0.000001\n",
      "91043      QACDSFTAF       1  0.000001\n",
      "\n",
      "[91044 rows x 3 columns]\n",
      "-----------------------\n"
     ]
    }
   ],
   "source": [
    "# Assuming 'prod_df' is your filtered DataFrame containing the columns 'fwr1_aa', 'cdr1_aa', 'fwr2_aa', 'cdr2_aa', 'fwr3_aa', 'fwr4_aa', and 'cdr3_aa'\n",
    "columns_to_count = ['fwr1_aa', 'cdr1_aa', 'fwr2_aa', 'cdr2_aa', 'fwr3_aa', 'fwr4_aa', 'cdr3_aa']\n",
    "\n",
    "# Calculate the total number of rows in the DataFrame\n",
    "total_rows = prod_df.shape[0]\n",
    "\n",
    "# Loop through each column and calculate value counts and fractions\n",
    "for column in columns_to_count:\n",
    "    # Calculate the value counts for the column\n",
    "    counts = prod_df[column].value_counts()\n",
    "    # Calculate the fraction (percentage) of each value in the column\n",
    "    frac = counts / total_rows\n",
    "    # Combine the counts and fractions into a DataFrame\n",
    "    result_df = pd.DataFrame({'sequence': counts.index, 'number': counts.values, 'frac': frac.values})\n",
    "    # Print the table for the current column\n",
    "    print(f\"Table for column '{column}':\")\n",
    "    print(result_df)\n",
    "    print(\"-----------------------\")"
   ]
  },
  {
   "cell_type": "code",
   "execution_count": 15,
   "id": "83f210be-a133-4c3a-a4ab-68d07714304d",
   "metadata": {},
   "outputs": [
    {
     "data": {
      "image/png": "[encoded data removed]",
      "text/plain": [
       "<Figure size 720x432 with 1 Axes>"
      ]
     },
     "metadata": {
      "needs_background": "light"
     },
     "output_type": "display_data"
    }
   ],
   "source": [
    "import pandas as pd\n",
    "import matplotlib.pyplot as plt\n",
    "\n",
    "# Assuming 'prod_df' is your filtered DataFrame containing the columns 'fwr1_aa', 'cdr1_aa', 'fwr2_aa', 'cdr2_aa', 'fwr3_aa', 'fwr4_aa', and 'cdr3_aa'\n",
    "columns_to_count = ['fwr1_aa', 'cdr1_aa', 'fwr2_aa', 'cdr2_aa', 'fwr3_aa', 'fwr4_aa', 'cdr3_aa']\n",
    "\n",
    "# Calculate the total number of rows in the DataFrame\n",
    "total_rows = prod_df.shape[0]\n",
    "\n",
    "# Set the filter threshold for cumulative sum of 'frac'\n",
    "filter_threshold = 0.7\n",
    "\n",
    "# Initialize a list to store the counts of rows where sum of 'frac' >= 0.9\n",
    "rows_90percent = []\n",
    "\n",
    "# Loop through each column and calculate value counts and fractions\n",
    "for column in columns_to_count:\n",
    "    # Calculate the value counts for the column\n",
    "    counts = prod_df[column].value_counts()\n",
    "    # Calculate the fraction (percentage) of each value in the column\n",
    "    frac = counts / total_rows\n",
    "    # Combine the counts and fractions into a DataFrame\n",
    "    result_df = pd.DataFrame({'sequence': counts.index, 'number': counts.values, 'frac': frac.values})\n",
    "    \n",
    "    # Calculate the cumulative sum of 'frac'\n",
    "    cumsum = result_df['frac'].cumsum()\n",
    "    \n",
    "    # Filter the rows where the cumulative sum is less than or equal to the filter threshold\n",
    "    filtered_rows = result_df[cumsum <= filter_threshold]\n",
    "    \n",
    "    # Count the number of rows that satisfy the condition\n",
    "    rows_90 = filtered_rows.shape[0]\n",
    "    rows_90percent.append(rows_90)\n",
    "\n",
    "# Create a bar plot for the count of rows that account for 90% of data in each column\n",
    "plt.figure(figsize=(10, 6))\n",
    "plt.bar(columns_to_count, rows_90percent)\n",
    "plt.xlabel('Column')\n",
    "plt.ylabel('Number of Rows (90% of data)')\n",
    "plt.title(f'Number of Rows Accounting for {int(filter_threshold*100)}% of Data in Each Column')\n",
    "plt.xticks(rotation=45)\n",
    "plt.tight_layout()\n",
    "plt.show()\n"
   ]
  },
  {
   "cell_type": "code",
   "execution_count": 16,
   "id": "3ba71d68-2753-44cf-8e78-d2f22addfc50",
   "metadata": {
    "scrolled": true
   },
   "outputs": [
    {
     "name": "stdout",
     "output_type": "stream",
     "text": [
      "fwr1_aa\n",
      "total_rows 67284\n",
      "filtered_rows 560\n",
      "\n",
      "cdr1_aa\n",
      "total_rows 37124\n",
      "filtered_rows 655\n",
      "\n",
      "fwr2_aa\n",
      "total_rows 48907\n",
      "filtered_rows 366\n",
      "\n",
      "cdr2_aa\n",
      "total_rows 11703\n",
      "filtered_rows 26\n",
      "\n",
      "fwr3_aa\n",
      "total_rows 107167\n",
      "filtered_rows 1677\n",
      "\n",
      "fwr4_aa\n",
      "total_rows 8461\n",
      "filtered_rows 6\n",
      "\n",
      "cdr3_aa\n",
      "total_rows 91044\n",
      "filtered_rows 3748\n",
      "\n"
     ]
    },
    {
     "data": {
      "image/png": "[encoded data removed]",
      "text/plain": [
       "<Figure size 720x432 with 1 Axes>"
      ]
     },
     "metadata": {
      "needs_background": "light"
     },
     "output_type": "display_data"
    }
   ],
   "source": [
    "import pandas as pd\n",
    "import matplotlib.pyplot as plt\n",
    "import seaborn as sns\n",
    "\n",
    "# Assuming 'prod_df' is your filtered DataFrame containing the columns 'fwr1_aa', 'cdr1_aa', 'fwr2_aa', 'cdr2_aa', 'fwr3_aa', 'fwr4_aa', and 'cdr3_aa'\n",
    "columns_to_count = ['fwr1_aa', 'cdr1_aa', 'fwr2_aa', 'cdr2_aa', 'fwr3_aa', 'fwr4_aa', 'cdr3_aa']\n",
    "\n",
    "# Calculate the total number of rows in the DataFrame\n",
    "total_rows = prod_df.shape[0]\n",
    "\n",
    "# Set the filter threshold (fraction sum)\n",
    "filter_threshold = 0.6\n",
    "\n",
    "# Initialize a list to store the counts of rows where sum of 'frac' >= filter_threshold\n",
    "rows_filter_percent = []\n",
    "\n",
    "# Initialize a list to store the violin plot data\n",
    "violin_data_list = []\n",
    "\n",
    "# Loop through each column and calculate value counts and fractions\n",
    "for column in columns_to_count:\n",
    "    # Calculate the value counts for the column\n",
    "    counts = prod_df[column].value_counts()\n",
    "    # Calculate the fraction (percentage) of each value in the column\n",
    "    frac = counts / total_rows\n",
    "    # Combine the counts and fractions into a DataFrame\n",
    "    result_df = pd.DataFrame({'sequence': counts.index, 'number': counts.values, 'frac': frac.values})\n",
    "    \n",
    "    # Calculate the cumulative sum of 'frac'\n",
    "    cumsum = result_df['frac'].cumsum()\n",
    "    \n",
    "    # Filter the rows where the cumulative sum is less than or equal to the filter_threshold\n",
    "    filtered_rows = result_df[cumsum <= filter_threshold]\n",
    "    \n",
    "    # Count the number of rows that satisfy the condition\n",
    "    rows_filtered = len(filtered_rows)\n",
    "    rows_filter_percent.append(rows_filtered)\n",
    "\n",
    "    # Append the 'number' values to the violin data list\n",
    "    violin_data_list.append(counts)\n",
    "    print(column)\n",
    "    print(f\"total_rows {counts.shape[0]}\")\n",
    "    print(f\"filtered_rows {rows_filtered}\\n\")\n",
    "    \n",
    "\n",
    "# Create the violin plot for 'number' values\n",
    "plt.figure(figsize=(10, 6))\n",
    "sns.violinplot(data=violin_data_list)\n",
    "plt.xlabel('Column')\n",
    "plt.ylabel('Number of Rows')\n",
    "plt.title(f'Distribution of Number of Rows in Each Counts Table (Threshold: {filter_threshold * 100}%)')\n",
    "plt.xticks(ticks=range(len(columns_to_count)), labels=columns_to_count, rotation=45)\n",
    "plt.tight_layout()\n",
    "plt.show()\n"
   ]
  },
  {
   "cell_type": "code",
   "execution_count": 17,
   "id": "7b4c7b5b-bb2a-4f88-a306-dbcaa3decded",
   "metadata": {},
   "outputs": [],
   "source": [
    "import os\n",
    "\n",
    "cmd = 'igblastn \\\n",
    "    -germline_db_V /usr/local/igblast/database/IGV \\\n",
    "    -germline_db_D /usr/local/igblast/database/IGHD \\\n",
    "    -germline_db_J /usr/local/igblast/database/IGJ \\\n",
    "    -auxiliary_data optional_file/human_gl.aux \\\n",
    "    -query SRR4431764merged.fa \\\n",
    "    -outfmt 19 \\\n",
    "    -num_threads 64 \\\n",
    "    -out BLAST_RESULTS'\n",
    "##os.system(cmd)"
   ]
  },
  {
   "cell_type": "code",
   "execution_count": null,
   "id": "70287b6e-5d95-47dc-978d-0e72a0dbba51",
   "metadata": {},
   "outputs": [],
   "source": [
    "import os\n",
    "\n",
    "cmd = \"igblastn -help\"\n",
    "os.system(cmd)"
   ]
  },
  {
   "cell_type": "code",
   "execution_count": 19,
   "id": "ebdf1e4d-3c82-481e-8f26-1fc62a6b53b2",
   "metadata": {},
   "outputs": [
    {
     "name": "stdout",
     "output_type": "stream",
     "text": [
      "/usr/bin/bash: line 1: locate: command not found\n"
     ]
    }
   ],
   "source": [
    "!locate optional_file/human_gl.aux"
   ]
  },
  {
   "cell_type": "code",
   "execution_count": 20,
   "id": "e1b4ac57-d311-48e4-8d95-e9fccd05b0b6",
   "metadata": {},
   "outputs": [
    {
     "name": "stdout",
     "output_type": "stream",
     "text": [
      "PACKAGE_NAME: igblast\n",
      "PACKAGE_VERSION: 1.21.0\n",
      "PACKAGE_SIGNATURE: GCC_730-ReleaseMT64--x86_64-unknown-linux3.10.0-gnu2.17-coremake11\n",
      "PACKAGE_CONFIG: Linux64-Centos : gcc : ./c++/compilers/unix/GCC.sh --with-static --without-dll --with-bin-release --with-strip --without-debug --without-pcre --with-mt --with-openmp --with-flat-makefile --with-vdb=/panfs/traces01.be-md.ncbi.nlm.nih.gov/trace_software/vdb --with-static-vdb --without-gnutls --without-gcrypt --with-nghttp2=/netopt/ncbi_tools64/nghttp2-1.40.0 --without-python --with-build-root-sfx=--Linux64-Centos-gcc --with-flat-makefile --with-ncbi-public --without-ccache --without-caution --without-runpath --without-makefile-auto-update --with-projects=scripts/projects/igblast/project.lst --with-internal\n",
      "\n",
      ">>>>>  igblastp\n",
      "\n",
      "igblastp: 1.21.0\n",
      " Package: igblast 1.21.0, build Apr 12 2023 18:51:45\n",
      " Package-Config:  Linux64-Centos : gcc : ./c++/compilers/unix/GCC.sh --with-static --without-dll --with-bin-release --with-strip --without-debug --without-pcre --with-mt --with-openmp --with-flat-makefile --with-vdb=/panfs/traces01.be-md.ncbi.nlm.nih.gov/trace_software/vdb --with-static-vdb --without-gnutls --without-gcrypt --with-nghttp2=/netopt/ncbi_tools64/nghttp2-1.40.0 --without-python --with-build-root-sfx=--Linux64-Centos-gcc --with-flat-makefile --with-ncbi-public --without-ccache --without-caution --without-runpath --without-makefile-auto-update --with-projects=scripts/projects/igblast/project.lst --with-internal\n",
      " Build-Signature:  GCC_730-ReleaseMT64--x86_64-unknown-linux3.10.0-gnu2.17-coremake11\n",
      " GI-64bit:  TRUE\n",
      " Build-Date:  Apr 12 2023 19:20:43\n",
      " Build-ID:  dabeb52d-2406-49e0-be3a-76df049f7de0\n",
      " Revision:  665751\n",
      " Subversion-Revision:  665751\n",
      " Stable-Components-Version:  27\n",
      " Production-Version:  20230304\n",
      " Built-As:  igblastp\n",
      "\n",
      "\n",
      "\n",
      ">>>>>  igblastn\n",
      "\n",
      "igblastn: 1.21.0\n",
      " Package: igblast 1.21.0, build Apr 12 2023 18:51:45\n",
      " Package-Config:  Linux64-Centos : gcc : ./c++/compilers/unix/GCC.sh --with-static --without-dll --with-bin-release --with-strip --without-debug --without-pcre --with-mt --with-openmp --with-flat-makefile --with-vdb=/panfs/traces01.be-md.ncbi.nlm.nih.gov/trace_software/vdb --with-static-vdb --without-gnutls --without-gcrypt --with-nghttp2=/netopt/ncbi_tools64/nghttp2-1.40.0 --without-python --with-build-root-sfx=--Linux64-Centos-gcc --with-flat-makefile --with-ncbi-public --without-ccache --without-caution --without-runpath --without-makefile-auto-update --with-projects=scripts/projects/igblast/project.lst --with-internal\n",
      " Build-Signature:  GCC_730-ReleaseMT64--x86_64-unknown-linux3.10.0-gnu2.17-coremake11\n",
      " GI-64bit:  TRUE\n",
      " Build-Date:  Apr 12 2023 19:20:38\n",
      " Build-ID:  dabeb52d-2406-49e0-be3a-76df049f7de0\n",
      " Revision:  665751\n",
      " Subversion-Revision:  665751\n",
      " Stable-Components-Version:  27\n",
      " Production-Version:  20230304\n",
      " Built-As:  igblastn\n",
      "\n",
      "\n",
      "\n",
      ">>>>>  makeblastdb\n",
      "\n",
      "makeblastdb: 2.14.0+\n",
      " Package: igblast 1.21.0, build Apr 12 2023 18:51:45\n",
      " Package-Config:  Linux64-Centos : gcc : ./c++/compilers/unix/GCC.sh --with-static --without-dll --with-bin-release --with-strip --without-debug --without-pcre --with-mt --with-openmp --with-flat-makefile --with-vdb=/panfs/traces01.be-md.ncbi.nlm.nih.gov/trace_software/vdb --with-static-vdb --without-gnutls --without-gcrypt --with-nghttp2=/netopt/ncbi_tools64/nghttp2-1.40.0 --without-python --with-build-root-sfx=--Linux64-Centos-gcc --with-flat-makefile --with-ncbi-public --without-ccache --without-caution --without-runpath --without-makefile-auto-update --with-projects=scripts/projects/igblast/project.lst --with-internal\n",
      " Build-Signature:  GCC_730-ReleaseMT64--x86_64-unknown-linux3.10.0-gnu2.17-coremake11\n",
      " GI-64bit:  TRUE\n",
      " Build-Date:  Apr 12 2023 19:20:50\n",
      " Build-ID:  dabeb52d-2406-49e0-be3a-76df049f7de0\n",
      " Revision:  665751\n",
      " Subversion-Revision:  665751\n",
      " Stable-Components-Version:  27\n",
      " Production-Version:  20230304\n",
      " Built-As:  makeblastdb\n",
      "\n",
      "\n",
      "\n",
      ">>>>>  blastdbcmd\n",
      "\n",
      "blastdbcmd: 2.14.0+\n",
      " Package: igblast 1.21.0, build Apr 12 2023 18:51:45\n",
      " Package-Config:  Linux64-Centos : gcc : ./c++/compilers/unix/GCC.sh --with-static --without-dll --with-bin-release --with-strip --without-debug --without-pcre --with-mt --with-openmp --with-flat-makefile --with-vdb=/panfs/traces01.be-md.ncbi.nlm.nih.gov/trace_software/vdb --with-static-vdb --without-gnutls --without-gcrypt --with-nghttp2=/netopt/ncbi_tools64/nghttp2-1.40.0 --without-python --with-build-root-sfx=--Linux64-Centos-gcc --with-flat-makefile --with-ncbi-public --without-ccache --without-caution --without-runpath --without-makefile-auto-update --with-projects=scripts/projects/igblast/project.lst --with-internal\n",
      " Build-Signature:  GCC_730-ReleaseMT64--x86_64-unknown-linux3.10.0-gnu2.17-coremake11\n",
      " GI-64bit:  TRUE\n",
      " Build-Date:  Apr 12 2023 19:23:27\n",
      " Build-ID:  dabeb52d-2406-49e0-be3a-76df049f7de0\n",
      " Revision:  665751\n",
      " Subversion-Revision:  665751\n",
      " Stable-Components-Version:  27\n",
      " Production-Version:  20230304\n",
      " Built-As:  blastdbcmd\n",
      "\n",
      "\n",
      "\n",
      "\n"
     ]
    }
   ],
   "source": [
    "!cat /usr/local/igblast/ncbi_package_info"
   ]
  },
  {
   "cell_type": "code",
   "execution_count": 21,
   "id": "ef592e3a-0ccd-4748-bf86-6e7dc0f6f070",
   "metadata": {},
   "outputs": [
    {
     "name": "stdout",
     "output_type": "stream",
     "text": [
      "/usr/bin/bash: line 1: locate: command not found\n"
     ]
    }
   ],
   "source": [
    "!locate 'human_gl.aux'"
   ]
  },
  {
   "cell_type": "code",
   "execution_count": 22,
   "id": "ced00beb-6379-4b45-965d-7454070e4336",
   "metadata": {
    "scrolled": true
   },
   "outputs": [
    {
     "name": "stdout",
     "output_type": "stream",
     "text": [
      "total 584\n",
      "-rw-r--r-- 1 todd todd   1856 Jul 15 23:13 IGHD\n",
      "-rw-r--r-- 1 root root  32768 Jul 16 14:09 IGHD.ndb\n",
      "-rw-r--r-- 1 root root   2387 Jul 16 14:09 IGHD.nhr\n",
      "-rw-r--r-- 1 root root    656 Jul 16 14:09 IGHD.nin\n",
      "-rw-r--r-- 1 root root    448 Jul 16 14:09 IGHD.njs\n",
      "-rw-r--r-- 1 root root    220 Jul 16 14:09 IGHD.nog\n",
      "-rw-r--r-- 1 root root    985 Jul 16 14:09 IGHD.nos\n",
      "-rw-r--r-- 1 root root    572 Jul 16 14:09 IGHD.not\n",
      "-rw-r--r-- 1 root root    316 Jul 16 14:09 IGHD.nsq\n",
      "-rw-r--r-- 1 root root  16384 Jul 16 14:09 IGHD.ntf\n",
      "-rw-r--r-- 1 root root    192 Jul 16 14:09 IGHD.nto\n",
      "-rw-r--r-- 1 todd todd   1783 Jul 15 23:13 IGJ\n",
      "-rw-r--r-- 1 root root  32768 Jul 16 14:09 IGJ.ndb\n",
      "-rw-r--r-- 1 root root   1504 Jul 16 14:09 IGJ.nhr\n",
      "-rw-r--r-- 1 root root    468 Jul 16 14:09 IGJ.nin\n",
      "-rw-r--r-- 1 root root    437 Jul 16 14:09 IGJ.njs\n",
      "-rw-r--r-- 1 root root    160 Jul 16 14:09 IGJ.nog\n",
      "-rw-r--r-- 1 root root    552 Jul 16 14:09 IGJ.nos\n",
      "-rw-r--r-- 1 root root    392 Jul 16 14:09 IGJ.not\n",
      "-rw-r--r-- 1 root root    374 Jul 16 14:09 IGJ.nsq\n",
      "-rw-r--r-- 1 root root  16384 Jul 16 14:09 IGJ.ntf\n",
      "-rw-r--r-- 1 root root    132 Jul 16 14:09 IGJ.nto\n",
      "-rw-r--r-- 1 todd todd 213079 Jul 15 23:13 IGV\n",
      "-rw-r--r-- 1 root root  53248 Jul 16 14:09 IGV.ndb\n",
      "-rw-r--r-- 1 root root  34441 Jul 16 14:09 IGV.nhr\n",
      "-rw-r--r-- 1 root root   8268 Jul 16 14:09 IGV.nin\n",
      "-rw-r--r-- 1 root root    443 Jul 16 14:09 IGV.njs\n",
      "-rw-r--r-- 1 root root   2760 Jul 16 14:09 IGV.nog\n",
      "-rw-r--r-- 1 root root  13989 Jul 16 14:09 IGV.nos\n",
      "-rw-r--r-- 1 root root   8192 Jul 16 14:09 IGV.not\n",
      "-rw-r--r-- 1 root root  50470 Jul 16 14:09 IGV.nsq\n",
      "-rw-r--r-- 1 root root  16384 Jul 16 14:09 IGV.ntf\n",
      "-rw-r--r-- 1 root root   2732 Jul 16 14:09 IGV.nto\n"
     ]
    }
   ],
   "source": [
    "!ls /usr/local/igblast/database/ -l"
   ]
  },
  {
   "cell_type": "code",
   "execution_count": null,
   "id": "98b35aae-8251-49ad-afda-c7f570c6d6f7",
   "metadata": {
    "scrolled": true
   },
   "outputs": [
    {
     "name": "stdout",
     "output_type": "stream",
     "text": [
      ">IGHD1-1*011h\u001b=\n",
      "ggtacaactggaacgac\n",
      ">IGHD1-14*01\n",
      "ggtataaccggaaccac\n",
      ">IGHD1-20*01\n",
      "ggtataactggaacgac\n",
      ">IGHD1-26*01\n",
      "ggtatagtgggagctactac\n",
      ">IGHD1-7*01\n",
      "ggtataactggaactac\n",
      ">IGHD1/OR15-1a*01\n",
      "ggtataactggaacaac\n",
      ">IGHD1/OR15-1b*01\n",
      "ggtataactggaacaac\n",
      ">IGHD2-15*01\n",
      "aggatattgtagtggtggtagctgctactcc\n",
      ">IGHD2-2*01\n",
      "aggatattgtagtagtaccagctgctatgcc\n",
      ">IGHD2-2*02\n",
      "aggatattgtagtagtaccagctgctatacc\n",
      ">IGHD2-2*03\n",
      "tggatattgtagtagtaccagctgctatgcc\n",
      ">IGHD2-21*01\n",
      "\u001b[7m/usr/local/igblast/database/IGHD\u001b[m\u001b[K"
     ]
    }
   ],
   "source": [
    "!less /usr/local/igblast/database/IGHD"
   ]
  },
  {
   "cell_type": "code",
   "execution_count": null,
   "id": "cf74105a-fd00-476f-886d-fe13a44225d6",
   "metadata": {},
   "outputs": [],
   "source": [
    "!ls /usr/local/igblast/bin -l"
   ]
  },
  {
   "cell_type": "code",
   "execution_count": null,
   "id": "849cbd71-c3f6-426d-8718-14a1f2b153c4",
   "metadata": {},
   "outputs": [],
   "source": [
    "!ls /usr/local/igblast/bin/optional_file"
   ]
  },
  {
   "cell_type": "code",
   "execution_count": null,
   "id": "38313d3c-d986-4086-8d9b-a355f7431788",
   "metadata": {},
   "outputs": [],
   "source": [
    "!cat /usr/local/igblast/bin/optional_file/human_gl.aux"
   ]
  },
  {
   "cell_type": "code",
   "execution_count": null,
   "id": "305ae13e-674f-4ba9-9662-e82f90cff8a3",
   "metadata": {},
   "outputs": [],
   "source": [
    "df_blast_results = pd.read_csv('BLAST_RESULTS',sep='\\t')"
   ]
  },
  {
   "cell_type": "code",
   "execution_count": null,
   "id": "ad0cdee2-48d9-48cf-8878-ed511c6516c7",
   "metadata": {},
   "outputs": [],
   "source": [
    "list(df_blast_results)"
   ]
  },
  {
   "cell_type": "code",
   "execution_count": null,
   "id": "aefe30e0-8efb-4177-af25-ecaba491a51e",
   "metadata": {},
   "outputs": [],
   "source": [
    "pd.set_option('display.max_colwidth',100)\n",
    "pd.set_option('display.max_rows', 100)\n",
    "pd.set_option('display.max_columns', 40)\n",
    "print(df_blast_results)"
   ]
  },
  {
   "cell_type": "code",
   "execution_count": null,
   "id": "0257ff5e-11ce-4f04-93e7-b977af109b5e",
   "metadata": {},
   "outputs": [],
   "source": [
    "pd.set_option('display.max_colwidth', None)\n",
    "pd.set_option('display.max_rows', None)\n",
    "pd.set_option('display.max_columns', None)\n",
    "##print(df_blast_results['productive'].head(10000))\n",
    "count_total = df_blast_results['productive'].size\n",
    "\n",
    "count_T_or_F = df_blast_results['productive'].count().sum()\n",
    "\n",
    "count_T = (df_blast_results['productive'] == 'T').sum().sum()\n",
    "\n",
    "count_F = (df_blast_results['productive'] == 'F').sum().sum()\n",
    "\n",
    "count_isNaN = df_blast_results['productive'].isna().sum().sum()\n",
    "print(\"Total \",count_total, count_T + count_F + count_isNaN)\n",
    "print(\"T or F\",count_T_or_F, count_T + count_F )\n",
    "print(\"T only \",count_T)\n",
    "print(\"F only \",count_F)\n",
    "print(\"NaN \",count_isNaN)\n",
    "##print(df[['sequence', 'seq_len']]"
   ]
  },
  {
   "cell_type": "code",
   "execution_count": null,
   "id": "36df4cfb-cb46-4c75-a402-05d677d52796",
   "metadata": {},
   "outputs": [],
   "source": []
  }
 ],
 "metadata": {
  "kernelspec": {
   "display_name": "Python 3 (ipykernel)",
   "language": "python",
   "name": "python3"
  },
  "language_info": {
   "codemirror_mode": {
    "name": "ipython",
    "version": 3
   },
   "file_extension": ".py",
   "mimetype": "text/x-python",
   "name": "python",
   "nbconvert_exporter": "python",
   "pygments_lexer": "ipython3",
   "version": "3.10.12"
  }
 },
 "nbformat": 4,
 "nbformat_minor": 5
}
